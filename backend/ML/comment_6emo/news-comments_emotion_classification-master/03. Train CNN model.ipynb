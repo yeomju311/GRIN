{
 "cells": [
  {
   "cell_type": "code",
   "execution_count": 1,
   "metadata": {
    "ExecuteTime": {
     "end_time": "2020-07-31T09:33:27.770561Z",
     "start_time": "2020-07-31T09:33:27.754630Z"
    }
   },
   "outputs": [],
   "source": [
    "import pandas as pd\n",
    "import numpy as np\n",
    "import pickle\n",
    "import codecs\n",
    "import time\n",
    "from itertools import chain\n",
    "from collections import Counter\n",
    "\n",
    "import matplotlib.pyplot as plt\n",
    "\n",
    "from sklearn.utils import shuffle\n",
    "from gensim.models import word2vec\n",
    "from gensim.models import FastText\n",
    "from gensim.test.utils import get_tmpfile\n",
    "\n",
    "from sklearn.preprocessing import LabelEncoder, OneHotEncoder\n",
    "from sklearn.model_selection import train_test_split\n",
    "\n",
    "import sys\n",
    "sys.path.append(\"util\")\n",
    "from util.load_data import load_word2vec\n",
    "\n",
    "import tensorflow as tf\n",
    "from tensorflow import keras"
   ]
  },
  {
   "cell_type": "markdown",
   "metadata": {},
   "source": [
    "# 1. 감정 댓글 불러오기"
   ]
  },
  {
   "cell_type": "code",
   "execution_count": 2,
   "metadata": {
    "ExecuteTime": {
     "end_time": "2020-07-31T09:01:40.520581Z",
     "start_time": "2020-07-31T09:01:37.211Z"
    }
   },
   "outputs": [],
   "source": [
    "word2vec_path = \"dataset/embedding/0710 w2v_model\"\n",
    "data_path = 'dataset/final_data/0710 comment_with_emo_over0.5.pkl'"
   ]
  },
  {
   "cell_type": "code",
   "execution_count": 3,
   "metadata": {
    "ExecuteTime": {
     "end_time": "2020-07-31T09:01:40.522575Z",
     "start_time": "2020-07-31T09:01:37.444Z"
    },
    "scrolled": true
   },
   "outputs": [
    {
     "name": "stdout",
     "output_type": "stream",
     "text": [
      "emotion_comment_df:  (408607, 11)\n"
     ]
    },
    {
     "data": {
      "text/html": [
       "<div>\n",
       "<style scoped>\n",
       "    .dataframe tbody tr th:only-of-type {\n",
       "        vertical-align: middle;\n",
       "    }\n",
       "\n",
       "    .dataframe tbody tr th {\n",
       "        vertical-align: top;\n",
       "    }\n",
       "\n",
       "    .dataframe thead th {\n",
       "        text-align: right;\n",
       "    }\n",
       "</style>\n",
       "<table border=\"1\" class=\"dataframe\">\n",
       "  <thead>\n",
       "    <tr style=\"text-align: right;\">\n",
       "      <th></th>\n",
       "      <th>happy</th>\n",
       "      <th>sad</th>\n",
       "      <th>disgust</th>\n",
       "      <th>angry</th>\n",
       "      <th>surprised</th>\n",
       "      <th>fear</th>\n",
       "      <th>comment_id</th>\n",
       "      <th>comment</th>\n",
       "      <th>comment_token</th>\n",
       "      <th>check</th>\n",
       "      <th>emotion</th>\n",
       "    </tr>\n",
       "  </thead>\n",
       "  <tbody>\n",
       "    <tr>\n",
       "      <th>1238681</th>\n",
       "      <td>0.0</td>\n",
       "      <td>0.0</td>\n",
       "      <td>0.333333</td>\n",
       "      <td>0.666667</td>\n",
       "      <td>0.0</td>\n",
       "      <td>0.0</td>\n",
       "      <td>879865752DFF46EA875B6A633D3A301A</td>\n",
       "      <td>싫음말지 출세동앗줄이라고 잡아놓고 어디 정권탓하고있냐  저런검사놈들 땜에 죽은 사람...</td>\n",
       "      <td>[싫다, 말, 출세, 앗줄, 잡다, 어디, 정권, 탓, 있다, 검사, 놈, 땜, 죽...</td>\n",
       "      <td>[싫다, 싫다, 놈]</td>\n",
       "      <td>angry</td>\n",
       "    </tr>\n",
       "    <tr>\n",
       "      <th>1038828</th>\n",
       "      <td>0.0</td>\n",
       "      <td>0.0</td>\n",
       "      <td>0.000000</td>\n",
       "      <td>1.000000</td>\n",
       "      <td>0.0</td>\n",
       "      <td>0.0</td>\n",
       "      <td>D70F32C0ADF9444098426E63D0BDF8D3</td>\n",
       "      <td>재활용도 못하겠다! 썩어빠진년놈들 사진 실려서</td>\n",
       "      <td>[재활용, 썩다, 빠지다, 년놈, 사진, 실리다]</td>\n",
       "      <td>[썩다]</td>\n",
       "      <td>angry</td>\n",
       "    </tr>\n",
       "    <tr>\n",
       "      <th>1439621</th>\n",
       "      <td>0.0</td>\n",
       "      <td>0.0</td>\n",
       "      <td>0.000000</td>\n",
       "      <td>1.000000</td>\n",
       "      <td>0.0</td>\n",
       "      <td>0.0</td>\n",
       "      <td>85C7864BF18647B2AD7BCCFB320E493C</td>\n",
       "      <td>별 미친</td>\n",
       "      <td>[별, 미치다]</td>\n",
       "      <td>[미치다]</td>\n",
       "      <td>angry</td>\n",
       "    </tr>\n",
       "    <tr>\n",
       "      <th>985622</th>\n",
       "      <td>0.0</td>\n",
       "      <td>0.0</td>\n",
       "      <td>0.000000</td>\n",
       "      <td>1.000000</td>\n",
       "      <td>0.0</td>\n",
       "      <td>0.0</td>\n",
       "      <td>9FE0CE98B01B4DC58720EB1F0A4A78B0</td>\n",
       "      <td>죄도 없는 대통령을 감옥에 집어넣고 죄를 뒤집어 씌우기 위해  없는 죄를 만들어 낼...</td>\n",
       "      <td>[죄, 없다, 대통령, 감옥, 집어넣다, 죄, 뒤지다, 씌우다, 위해, 없다, 죄,...</td>\n",
       "      <td>[놈, 나쁘다, 놈, 나쁘다, 놈]</td>\n",
       "      <td>angry</td>\n",
       "    </tr>\n",
       "    <tr>\n",
       "      <th>285755</th>\n",
       "      <td>0.0</td>\n",
       "      <td>0.0</td>\n",
       "      <td>0.000000</td>\n",
       "      <td>0.000000</td>\n",
       "      <td>1.0</td>\n",
       "      <td>0.0</td>\n",
       "      <td>2950ECE6FE5046AF99FB716DC6BAC0BE</td>\n",
       "      <td>.이것이 우리의 정확한 위치다....    언젠가부터 우리는 우리 스스로를 선진국이...</td>\n",
       "      <td>[우리, 정확하다, 위치, 언젠가, 부터, 우리, 우리, 스스로, 선진국, 부르다,...</td>\n",
       "      <td>[경악]</td>\n",
       "      <td>surprised</td>\n",
       "    </tr>\n",
       "  </tbody>\n",
       "</table>\n",
       "</div>"
      ],
      "text/plain": [
       "         happy  sad   disgust     angry  surprised  fear  \\\n",
       "1238681    0.0  0.0  0.333333  0.666667        0.0   0.0   \n",
       "1038828    0.0  0.0  0.000000  1.000000        0.0   0.0   \n",
       "1439621    0.0  0.0  0.000000  1.000000        0.0   0.0   \n",
       "985622     0.0  0.0  0.000000  1.000000        0.0   0.0   \n",
       "285755     0.0  0.0  0.000000  0.000000        1.0   0.0   \n",
       "\n",
       "                               comment_id  \\\n",
       "1238681  879865752DFF46EA875B6A633D3A301A   \n",
       "1038828  D70F32C0ADF9444098426E63D0BDF8D3   \n",
       "1439621  85C7864BF18647B2AD7BCCFB320E493C   \n",
       "985622   9FE0CE98B01B4DC58720EB1F0A4A78B0   \n",
       "285755   2950ECE6FE5046AF99FB716DC6BAC0BE   \n",
       "\n",
       "                                                   comment  \\\n",
       "1238681  싫음말지 출세동앗줄이라고 잡아놓고 어디 정권탓하고있냐  저런검사놈들 땜에 죽은 사람...   \n",
       "1038828                          재활용도 못하겠다! 썩어빠진년놈들 사진 실려서   \n",
       "1439621                                               별 미친   \n",
       "985622   죄도 없는 대통령을 감옥에 집어넣고 죄를 뒤집어 씌우기 위해  없는 죄를 만들어 낼...   \n",
       "285755   .이것이 우리의 정확한 위치다....    언젠가부터 우리는 우리 스스로를 선진국이...   \n",
       "\n",
       "                                             comment_token  \\\n",
       "1238681  [싫다, 말, 출세, 앗줄, 잡다, 어디, 정권, 탓, 있다, 검사, 놈, 땜, 죽...   \n",
       "1038828                        [재활용, 썩다, 빠지다, 년놈, 사진, 실리다]   \n",
       "1439621                                           [별, 미치다]   \n",
       "985622   [죄, 없다, 대통령, 감옥, 집어넣다, 죄, 뒤지다, 씌우다, 위해, 없다, 죄,...   \n",
       "285755   [우리, 정확하다, 위치, 언젠가, 부터, 우리, 우리, 스스로, 선진국, 부르다,...   \n",
       "\n",
       "                       check    emotion  \n",
       "1238681          [싫다, 싫다, 놈]      angry  \n",
       "1038828                 [썩다]      angry  \n",
       "1439621                [미치다]      angry  \n",
       "985622   [놈, 나쁘다, 놈, 나쁘다, 놈]      angry  \n",
       "285755                  [경악]  surprised  "
      ]
     },
     "metadata": {},
     "output_type": "display_data"
    }
   ],
   "source": [
    "emotion_comment_df = pd.read_pickle(data_path)\n",
    "    \n",
    "print(\"emotion_comment_df: \", emotion_comment_df.shape)\n",
    "display(emotion_comment_df.sample(5))"
   ]
  },
  {
   "cell_type": "code",
   "execution_count": 4,
   "metadata": {
    "ExecuteTime": {
     "end_time": "2020-07-31T09:01:40.523573Z",
     "start_time": "2020-07-31T09:01:37.963Z"
    }
   },
   "outputs": [
    {
     "name": "stdout",
     "output_type": "stream",
     "text": [
      "샘플링 전 : Counter({'angry': 240971, 'sad': 83041, 'happy': 44682, 'disgust': 17263, 'fear': 14649, 'surprised': 8001})\n",
      "\n",
      "샘플링 이후 : Counter({'angry': 8000, 'disgust': 8000, 'fear': 8000, 'happy': 8000, 'sad': 8000, 'surprised': 8000})\n"
     ]
    }
   ],
   "source": [
    "print(\"샘플링 전 :\",Counter(emotion_comment_df.emotion))\n",
    "print()\n",
    "\n",
    "# 각 감정별로 셔플한 다음 8,000개씩 부여 (Train = 85% / Test = 15%)\n",
    "sample_count = 8000\n",
    "\n",
    "sampled_emo_cmt_df = (\n",
    "    emotion_comment_df.groupby('emotion').apply(\n",
    "        lambda d: shuffle(d, random_state=42, n_samples=sample_count)).reset_index(drop=True)\n",
    ")\n",
    "\n",
    "print(\"샘플링 이후 :\",Counter(sampled_emo_cmt_df.emotion))"
   ]
  },
  {
   "cell_type": "markdown",
   "metadata": {},
   "source": [
    "**균등한 데이터셋 분포를 위해 사전에 감정 별 데이터 크기를 동일하게 맞춤**"
   ]
  },
  {
   "cell_type": "markdown",
   "metadata": {},
   "source": [
    "# 2. Text Encoding\n",
    "\n",
    "- 모든 단어를 정수로 인코딩\n",
    "- 케라스의 `Tokenizer` 클래스 사용\n",
    "- 모든 단어를 각기 다른 단어 ID에 매핑. ID는 1부터 시작해 고유한 단어 개수까지 생성 (**마스킹에 사용하기 때문에 0부터 시작하지 않음**)"
   ]
  },
  {
   "cell_type": "code",
   "execution_count": 5,
   "metadata": {
    "ExecuteTime": {
     "end_time": "2020-07-31T09:01:40.525567Z",
     "start_time": "2020-07-31T09:01:39.170Z"
    }
   },
   "outputs": [
    {
     "name": "stdout",
     "output_type": "stream",
     "text": [
      "sample data :  ['멀다', '놈', '기사', '도통', '내용', '뭐', '알다', '없다']\n",
      "texts to sequences ===> [[449, 18, 52, 8897, 729, 35, 28, 3]]\n",
      "sequences to texts ===> ['있다 되다 없다 보다 아니다']\n",
      "\n",
      "고유 단어 개수 : 35670, 전체 댓글 개수 : 48000\n"
     ]
    }
   ],
   "source": [
    "emotion_token_list = sampled_emo_cmt_df[\"comment_token\"].tolist()\n",
    "\n",
    "\n",
    "# 모든 글자를 정수 ID로 인코딩\n",
    "def word_to_id(token_list):\n",
    "    print(\"sample data : \",token_list[0])\n",
    "    tokenizer = tf.keras.preprocessing.text.Tokenizer()\n",
    "    tokenizer.fit_on_texts(token_list)\n",
    "    print(\"texts to sequences ===>\",tokenizer.texts_to_sequences([token_list[0]]))\n",
    "    print(\"sequences to texts ===>\",tokenizer.sequences_to_texts([[1,2,3,4,5]])) \n",
    "    print()\n",
    "    \n",
    "    word_to_id = tokenizer.word_index\n",
    "    id_to_word = tokenizer.index_word\n",
    "    \n",
    "    print(\"고유 단어 개수 : {}, 전체 댓글 개수 : {}\".format(len(word_to_id), tokenizer.document_count))\n",
    "    \n",
    "    encoded_tokens = []\n",
    "    for token in token_list:\n",
    "        encoded_tokens.append(tokenizer.texts_to_sequences([token])[0])\n",
    "    \n",
    "    return encoded_tokens, word_to_id, id_to_word\n",
    "    \n",
    "encoded_tokens, word_to_id, id_to_word = word_to_id(emotion_token_list)"
   ]
  },
  {
   "cell_type": "code",
   "execution_count": 6,
   "metadata": {
    "ExecuteTime": {
     "end_time": "2020-07-31T09:01:40.527561Z",
     "start_time": "2020-07-31T09:01:39.987Z"
    }
   },
   "outputs": [
    {
     "name": "stdout",
     "output_type": "stream",
     "text": [
      "Shape of data tensor: (48000, 20)\n",
      "Shape of label tensor: (48000, 6)\n",
      "\n",
      "[array(['angry', 'disgust', 'fear', 'happy', 'sad', 'surprised'],\n",
      "      dtype=object)]\n",
      "[[1. 0. 0. 0. 0. 0.]\n",
      " [1. 0. 0. 0. 0. 0.]\n",
      " [1. 0. 0. 0. 0. 0.]\n",
      " ...\n",
      " [0. 0. 0. 0. 0. 1.]\n",
      " [0. 0. 0. 0. 0. 1.]\n",
      " [0. 0. 0. 0. 0. 1.]]\n"
     ]
    }
   ],
   "source": [
    "# X (padding)\n",
    "\n",
    "MAX_SEQUENCE_LENGTH = 20\n",
    "\n",
    "data = tf.keras.preprocessing.sequence.pad_sequences(encoded_tokens, maxlen=MAX_SEQUENCE_LENGTH)\n",
    "\n",
    "# y (one-hot encoding labels)\n",
    "\n",
    "cat_encoder = OneHotEncoder()\n",
    "labels = cat_encoder.fit_transform(sampled_emo_cmt_df[['emotion']]).toarray()\n",
    "\n",
    "print('Shape of data tensor:', data.shape)\n",
    "print('Shape of label tensor:', labels.shape)\n",
    "print()\n",
    "print(cat_encoder.categories_)\n",
    "print(labels)"
   ]
  },
  {
   "cell_type": "markdown",
   "metadata": {},
   "source": [
    "# 3.Embedding Matrix 만들기 "
   ]
  },
  {
   "cell_type": "code",
   "execution_count": 7,
   "metadata": {
    "ExecuteTime": {
     "end_time": "2020-07-31T09:01:42.858356Z",
     "start_time": "2020-07-31T09:01:42.848383Z"
    }
   },
   "outputs": [
    {
     "name": "stdout",
     "output_type": "stream",
     "text": [
      "word2vec 모델 불러오기 ... finished in 0.58 sec.\n",
      "#words = 168620, vector size = 300\n"
     ]
    }
   ],
   "source": [
    "w2v_model = load_word2vec(word2vec_path)"
   ]
  },
  {
   "cell_type": "code",
   "execution_count": 8,
   "metadata": {
    "ExecuteTime": {
     "end_time": "2020-07-31T09:01:43.056801Z",
     "start_time": "2020-07-31T09:01:43.051814Z"
    }
   },
   "outputs": [],
   "source": [
    "# with pretrained model\n",
    "def create_embedding_matrix(w2v_model, word_to_id):\n",
    "    '''\n",
    "    pretrained model이 존재할 때 embedding matrix 만드는법\n",
    "    if 존재하지 않는다면, tf.keras.Embedding layer 사용\n",
    "    '''\n",
    "    \n",
    "    EMBEDDING_DIM = w2v_model.vector_size\n",
    "\n",
    "    embedding_matrix = np.zeros((len(word_to_id)+1, EMBEDDING_DIM))\n",
    "    print(embedding_matrix.shape)\n",
    "\n",
    "    for word, i in word_to_id.items():\n",
    "        try:\n",
    "            embedding_vector = w2v_model.wv[word]\n",
    "            embedding_matrix[i] = embedding_vector\n",
    "        except KeyError:\n",
    "            embedding_matrix[i] = np.random.normal(0,np.sqrt(0.25),EMBEDDING_DIM)\n",
    "            \n",
    "    return embedding_matrix"
   ]
  },
  {
   "cell_type": "code",
   "execution_count": 9,
   "metadata": {
    "ExecuteTime": {
     "end_time": "2020-07-31T09:01:43.314113Z",
     "start_time": "2020-07-31T09:01:43.305137Z"
    }
   },
   "outputs": [
    {
     "name": "stdout",
     "output_type": "stream",
     "text": [
      "(35671, 300)\n"
     ]
    },
    {
     "data": {
      "text/plain": [
       "array([[ 0.        ,  0.        ,  0.        , ...,  0.        ,\n",
       "         0.        ,  0.        ],\n",
       "       [-0.13877146, -0.03067526, -0.07808419, ..., -0.05337833,\n",
       "        -0.0992438 , -0.00218738],\n",
       "       [-0.03504737, -0.12057228,  0.01615535, ...,  0.005222  ,\n",
       "        -0.08698165,  0.06102141],\n",
       "       ...,\n",
       "       [ 0.04774499,  0.08327273,  0.00324909, ..., -0.05244453,\n",
       "        -0.05709571, -0.09028624],\n",
       "       [-0.05991533, -0.03845508, -0.01238701, ..., -0.00123169,\n",
       "        -0.07324471, -0.04061742],\n",
       "       [-0.11260591, -0.00158114,  0.01082337, ...,  0.00661842,\n",
       "        -0.05145192, -0.09587358]])"
      ]
     },
     "execution_count": 9,
     "metadata": {},
     "output_type": "execute_result"
    }
   ],
   "source": [
    "embedding_matrix = create_embedding_matrix(w2v_model, word_to_id)\n",
    "embedding_matrix"
   ]
  },
  {
   "cell_type": "code",
   "execution_count": 10,
   "metadata": {},
   "outputs": [
    {
     "name": "stdout",
     "output_type": "stream",
     "text": [
      "\t\t\tFeature Shapes:\n",
      "Train set: \t\t(38400, 20) \n",
      "Validation set: \t(4800, 20) \n",
      "Test set: \t\t(4800, 20)\n"
     ]
    }
   ],
   "source": [
    "# shuffle data \n",
    "\n",
    "indices = np.arange(data.shape[0])\n",
    "np.random.shuffle(indices)\n",
    "\n",
    "data = data[indices]\n",
    "labels = labels[indices]\n",
    "\n",
    "# split the data into a training set and a validation set \n",
    "split_frac=0.8\n",
    "split_idx = int(len(data)*split_frac)\n",
    "X_train, remaining_x = data[:split_idx], data[split_idx:]\n",
    "y_train, remaining_y = labels[:split_idx], labels[split_idx:]\n",
    "\n",
    "test_idx = int(len(remaining_x)*0.5)\n",
    "X_val, X_test = remaining_x[:test_idx], remaining_x[test_idx:]\n",
    "y_val, y_test = remaining_y[:test_idx], remaining_y[test_idx:]\n",
    "\n",
    "## print out the shapes of your resultant feature data\n",
    "print(\"\\t\\t\\tFeature Shapes:\")\n",
    "print(\"Train set: \\t\\t{}\".format(X_train.shape), \n",
    "      \"\\nValidation set: \\t{}\".format(X_val.shape),\n",
    "      \"\\nTest set: \\t\\t{}\".format(X_test.shape))"
   ]
  },
  {
   "cell_type": "markdown",
   "metadata": {},
   "source": [
    "# 4. CNN 학습"
   ]
  },
  {
   "cell_type": "code",
   "execution_count": 11,
   "metadata": {},
   "outputs": [],
   "source": [
    "EMBEDDING_DIM = 300\n",
    "MAX_SEQUENCE_LEGNTH = 20\n",
    "filter_sizes = [3,4,5]\n",
    "num_filters = 100\n",
    "dim_output = 6\n",
    "\n",
    "class textCNN(tf.keras.Model):\n",
    "    \n",
    "    def __init__(self,\n",
    "                 embedding_matrix,\n",
    "                 output_size=dim_output,\n",
    "                 max_sequence_length=MAX_SEQUENCE_LENGTH,\n",
    "                 num_filters=100,\n",
    "                 filter_sizes=[3,4,5],\n",
    "                 drop_prob=0.5,\n",
    "                 train_embedding=False, # Note that we set trainable=False to prevent the weights from being updated during training.\n",
    "                 **kwargs):\n",
    "        super(textCNN,self).__init__(**kwargs) # 표준 매개변수 처리\n",
    "        \n",
    "        self.max_sequence_length = max_sequence_length\n",
    "        self.drop_prob = drop_prob\n",
    "        self.num_filters = num_filters\n",
    "        self.filter_sizes = filter_sizes\n",
    "        self.output_size = output_size\n",
    "\n",
    "        vocab_size, embedding_dim = embedding_matrix.shape\n",
    "        \n",
    "        #### layers\n",
    "        # if using pretrained model to initialize\n",
    "        self.embedding_layer = tf.keras.layers.Embedding(vocab_size,\n",
    "                                                    EMBEDDING_DIM,\n",
    "                                                    embeddings_initializer=tf.keras.initializers.Constant(embedding_matrix),\n",
    "                                                    trainable=train_embedding) \n",
    "\n",
    "        # # if not using pretrained model\n",
    "        # self.embedding_layer = tf.keras.layers.Embedding(len(word_to_id) + 1,\n",
    "        #                                               EMBEDDING_DIM,\n",
    "        #                                               input_length=MAX_SEQUENCE_LENGTH) \n",
    "\n",
    "        self.conv_layers = []\n",
    "        for i,filter_size in enumerate(filter_sizes):\n",
    "            conv_block = tf.keras.Sequential()\n",
    "\n",
    "            conv = tf.keras.layers.Conv2D(num_filters,\n",
    "                                       (filter_size, embedding_dim),\n",
    "                                       padding='VALID', # ignore padding\n",
    "                                       activation='relu',\n",
    "                                       strides=(1,1),\n",
    "                                       name=f'conv_layer_{i}')\n",
    "\n",
    "            pooling = tf.keras.layers.MaxPooling2D((max_sequence_length - filter_size + 1, 1),\n",
    "                                                padding='valid',\n",
    "                                                strides=(1,1),\n",
    "                                                name=f'pooling_layer_{i}')    \n",
    "\n",
    "            conv_block.add(conv)\n",
    "            conv_block.add(pooling)\n",
    "            \n",
    "            self.conv_layers.append(conv_block)\n",
    "            \n",
    "        self.dense = tf.keras.layers.Dense(output_size,\n",
    "                                     activation='softmax',\n",
    "                                     kernel_regularizer=tf.keras.regularizers.l2(0.01),\n",
    "                                     name='prediction')\n",
    "        \n",
    "        self.flatten = tf.keras.layers.Flatten(name='flatten')\n",
    "        self.reshape = tf.keras.layers.Reshape((max_sequence_length, embedding_dim, 1))\n",
    "        self.dropout = tf.keras.layers.Dropout(rate=drop_prob, name='dropout')\n",
    "        \n",
    "    def call(self, inputs, training=None):\n",
    "        \n",
    "        embedding = self.embedding_layer(inputs)\n",
    "        reshape = self.reshape(embedding) #(sequence_length,EMBEDDING_DIM,1)\n",
    "        \n",
    "        pool_outputs = [layer(reshape) for layer in self.conv_layers]\n",
    "        pool_outputs = tf.keras.layers.concatenate(pool_outputs, axis=-1, name='concatenate')\n",
    "        pool_outputs = self.flatten(pool_outputs)\n",
    "        pool_outputs = self.dropout(pool_outputs)\n",
    "\n",
    "        if training:\n",
    "            pool_outputs=self.dropout(pool_outputs)\n",
    "\n",
    "        logit = self.dense(pool_outputs)\n",
    "        \n",
    "        return logit"
   ]
  },
  {
   "cell_type": "code",
   "execution_count": 12,
   "metadata": {},
   "outputs": [],
   "source": [
    "cnn = textCNN(embedding_matrix = embedding_matrix,\n",
    "              max_sequence_length=20,\n",
    "              output_size = 6)"
   ]
  },
  {
   "cell_type": "code",
   "execution_count": 13,
   "metadata": {},
   "outputs": [],
   "source": [
    "cnn.compile(loss='categorical_crossentropy',\n",
    "            optimizer=tf.keras.optimizers.Adam(learning_rate=0.001),\n",
    "            metrics=['acc'])\n",
    "callbacks = [tf.keras.callbacks.EarlyStopping(monitor='val_loss',patience=30)]"
   ]
  },
  {
   "cell_type": "code",
   "execution_count": 19,
   "metadata": {},
   "outputs": [
    {
     "name": "stdout",
     "output_type": "stream",
     "text": [
      "Epoch 1/200\n",
      "1200/1200 [==============================] - 10s 8ms/step - loss: 0.4104 - acc: 0.8992 - val_loss: 0.3599 - val_acc: 0.9062\n",
      "Epoch 2/200\n",
      "1200/1200 [==============================] - 10s 8ms/step - loss: 0.3828 - acc: 0.9066 - val_loss: 0.3440 - val_acc: 0.9110\n",
      "Epoch 3/200\n",
      "1200/1200 [==============================] - 9s 8ms/step - loss: 0.3619 - acc: 0.9119 - val_loss: 0.3319 - val_acc: 0.9123\n",
      "Epoch 4/200\n",
      "1200/1200 [==============================] - 10s 8ms/step - loss: 0.3437 - acc: 0.9167 - val_loss: 0.3249 - val_acc: 0.9121\n",
      "Epoch 5/200\n",
      "1200/1200 [==============================] - 10s 8ms/step - loss: 0.3296 - acc: 0.9198 - val_loss: 0.3201 - val_acc: 0.9135\n",
      "Epoch 6/200\n",
      "1200/1200 [==============================] - 9s 8ms/step - loss: 0.3192 - acc: 0.9241 - val_loss: 0.3147 - val_acc: 0.9135\n",
      "Epoch 7/200\n",
      "1200/1200 [==============================] - 9s 8ms/step - loss: 0.3094 - acc: 0.9273 - val_loss: 0.3073 - val_acc: 0.9162\n",
      "Epoch 8/200\n",
      "1200/1200 [==============================] - 9s 8ms/step - loss: 0.2954 - acc: 0.9317 - val_loss: 0.3053 - val_acc: 0.9154\n",
      "Epoch 9/200\n",
      "1200/1200 [==============================] - 9s 8ms/step - loss: 0.2885 - acc: 0.9340 - val_loss: 0.3012 - val_acc: 0.9152\n",
      "Epoch 10/200\n",
      "1200/1200 [==============================] - 9s 8ms/step - loss: 0.2781 - acc: 0.9362 - val_loss: 0.2983 - val_acc: 0.9192\n",
      "Epoch 11/200\n",
      "1200/1200 [==============================] - 9s 8ms/step - loss: 0.2716 - acc: 0.9389 - val_loss: 0.2968 - val_acc: 0.9210\n",
      "Epoch 12/200\n",
      "1200/1200 [==============================] - 10s 8ms/step - loss: 0.2666 - acc: 0.9405 - val_loss: 0.2953 - val_acc: 0.9175\n",
      "Epoch 13/200\n",
      "1200/1200 [==============================] - 10s 8ms/step - loss: 0.2593 - acc: 0.9429 - val_loss: 0.2916 - val_acc: 0.9190\n",
      "Epoch 14/200\n",
      "1200/1200 [==============================] - 9s 8ms/step - loss: 0.2523 - acc: 0.9458 - val_loss: 0.2921 - val_acc: 0.9200\n",
      "Epoch 15/200\n",
      "1200/1200 [==============================] - 10s 8ms/step - loss: 0.2486 - acc: 0.9474 - val_loss: 0.2896 - val_acc: 0.9202\n",
      "Epoch 16/200\n",
      "1200/1200 [==============================] - 9s 8ms/step - loss: 0.2428 - acc: 0.9492 - val_loss: 0.2912 - val_acc: 0.9206\n",
      "Epoch 17/200\n",
      "1200/1200 [==============================] - 9s 8ms/step - loss: 0.2384 - acc: 0.9509 - val_loss: 0.2883 - val_acc: 0.9221\n",
      "Epoch 18/200\n",
      "1200/1200 [==============================] - 10s 8ms/step - loss: 0.2349 - acc: 0.9521 - val_loss: 0.2870 - val_acc: 0.9210\n",
      "Epoch 19/200\n",
      "1200/1200 [==============================] - 10s 8ms/step - loss: 0.2287 - acc: 0.9541 - val_loss: 0.2868 - val_acc: 0.9208\n",
      "Epoch 20/200\n",
      "1200/1200 [==============================] - 10s 8ms/step - loss: 0.2255 - acc: 0.9552 - val_loss: 0.2852 - val_acc: 0.9200\n",
      "Epoch 21/200\n",
      "1200/1200 [==============================] - 10s 8ms/step - loss: 0.2196 - acc: 0.9580 - val_loss: 0.2851 - val_acc: 0.9200\n",
      "Epoch 22/200\n",
      "1200/1200 [==============================] - 10s 8ms/step - loss: 0.2166 - acc: 0.9580 - val_loss: 0.2841 - val_acc: 0.9225\n",
      "Epoch 23/200\n",
      "1200/1200 [==============================] - 9s 8ms/step - loss: 0.2113 - acc: 0.9603 - val_loss: 0.2848 - val_acc: 0.9215\n",
      "Epoch 24/200\n",
      "1200/1200 [==============================] - 9s 8ms/step - loss: 0.2109 - acc: 0.9610 - val_loss: 0.2834 - val_acc: 0.9200\n",
      "Epoch 25/200\n",
      "1200/1200 [==============================] - 10s 8ms/step - loss: 0.2049 - acc: 0.9630 - val_loss: 0.2803 - val_acc: 0.9212\n",
      "Epoch 26/200\n",
      "1200/1200 [==============================] - 10s 8ms/step - loss: 0.1989 - acc: 0.9630 - val_loss: 0.2805 - val_acc: 0.9219\n",
      "Epoch 27/200\n",
      "1200/1200 [==============================] - 10s 8ms/step - loss: 0.1989 - acc: 0.9643 - val_loss: 0.2811 - val_acc: 0.9217\n",
      "Epoch 28/200\n",
      "1200/1200 [==============================] - 10s 8ms/step - loss: 0.1962 - acc: 0.9650 - val_loss: 0.2821 - val_acc: 0.9225\n",
      "Epoch 29/200\n",
      "1200/1200 [==============================] - 10s 8ms/step - loss: 0.1949 - acc: 0.9647 - val_loss: 0.2812 - val_acc: 0.9219\n",
      "Epoch 30/200\n",
      "1200/1200 [==============================] - 10s 8ms/step - loss: 0.1905 - acc: 0.9661 - val_loss: 0.2804 - val_acc: 0.9219\n",
      "Epoch 31/200\n",
      "1200/1200 [==============================] - 10s 8ms/step - loss: 0.1857 - acc: 0.9686 - val_loss: 0.2798 - val_acc: 0.9235\n",
      "Epoch 32/200\n",
      "1200/1200 [==============================] - 10s 8ms/step - loss: 0.1846 - acc: 0.9678 - val_loss: 0.2792 - val_acc: 0.9212\n",
      "Epoch 33/200\n",
      "1200/1200 [==============================] - 10s 8ms/step - loss: 0.1808 - acc: 0.9693 - val_loss: 0.2804 - val_acc: 0.9221\n",
      "Epoch 34/200\n",
      "1200/1200 [==============================] - 10s 8ms/step - loss: 0.1797 - acc: 0.9702 - val_loss: 0.2807 - val_acc: 0.9206\n",
      "Epoch 35/200\n",
      "1200/1200 [==============================] - 10s 8ms/step - loss: 0.1757 - acc: 0.9720 - val_loss: 0.2793 - val_acc: 0.9231\n",
      "Epoch 36/200\n",
      "1200/1200 [==============================] - 10s 8ms/step - loss: 0.1748 - acc: 0.9709 - val_loss: 0.2799 - val_acc: 0.9219\n",
      "Epoch 37/200\n",
      "1200/1200 [==============================] - 10s 8ms/step - loss: 0.1717 - acc: 0.9726 - val_loss: 0.2801 - val_acc: 0.9212\n",
      "Epoch 38/200\n",
      "1200/1200 [==============================] - 10s 8ms/step - loss: 0.1723 - acc: 0.9725 - val_loss: 0.2772 - val_acc: 0.9227\n",
      "Epoch 39/200\n",
      "1200/1200 [==============================] - 10s 8ms/step - loss: 0.1684 - acc: 0.9733 - val_loss: 0.2792 - val_acc: 0.9227\n",
      "Epoch 40/200\n",
      "1200/1200 [==============================] - 10s 8ms/step - loss: 0.1655 - acc: 0.9734 - val_loss: 0.2802 - val_acc: 0.9208\n",
      "Epoch 41/200\n",
      "1200/1200 [==============================] - 10s 8ms/step - loss: 0.1657 - acc: 0.9737 - val_loss: 0.2780 - val_acc: 0.9227\n",
      "Epoch 42/200\n",
      "1200/1200 [==============================] - 10s 8ms/step - loss: 0.1623 - acc: 0.9751 - val_loss: 0.2772 - val_acc: 0.9233\n",
      "Epoch 43/200\n",
      "1200/1200 [==============================] - 10s 8ms/step - loss: 0.1617 - acc: 0.9741 - val_loss: 0.2759 - val_acc: 0.9219\n",
      "Epoch 44/200\n",
      "1200/1200 [==============================] - 10s 8ms/step - loss: 0.1575 - acc: 0.9747 - val_loss: 0.2796 - val_acc: 0.9219\n",
      "Epoch 45/200\n",
      "1200/1200 [==============================] - 10s 8ms/step - loss: 0.1580 - acc: 0.9758 - val_loss: 0.2753 - val_acc: 0.9231\n",
      "Epoch 46/200\n",
      "1200/1200 [==============================] - 10s 8ms/step - loss: 0.1572 - acc: 0.9767 - val_loss: 0.2773 - val_acc: 0.9219\n",
      "Epoch 47/200\n",
      "1200/1200 [==============================] - 10s 8ms/step - loss: 0.1552 - acc: 0.9764 - val_loss: 0.2768 - val_acc: 0.9212\n",
      "Epoch 48/200\n",
      "1200/1200 [==============================] - 10s 8ms/step - loss: 0.1542 - acc: 0.9771 - val_loss: 0.2763 - val_acc: 0.9215\n",
      "Epoch 49/200\n",
      "1200/1200 [==============================] - 10s 8ms/step - loss: 0.1521 - acc: 0.9767 - val_loss: 0.2779 - val_acc: 0.9212\n",
      "Epoch 50/200\n",
      "1200/1200 [==============================] - 10s 8ms/step - loss: 0.1494 - acc: 0.9789 - val_loss: 0.2757 - val_acc: 0.9237\n",
      "Epoch 51/200\n",
      "1200/1200 [==============================] - 10s 8ms/step - loss: 0.1487 - acc: 0.9779 - val_loss: 0.2741 - val_acc: 0.9246\n",
      "Epoch 52/200\n",
      "1200/1200 [==============================] - 10s 8ms/step - loss: 0.1473 - acc: 0.9777 - val_loss: 0.2728 - val_acc: 0.9225\n",
      "Epoch 53/200\n",
      "1200/1200 [==============================] - 10s 8ms/step - loss: 0.1481 - acc: 0.9786 - val_loss: 0.2740 - val_acc: 0.9237\n",
      "Epoch 54/200\n",
      "1200/1200 [==============================] - 10s 8ms/step - loss: 0.1448 - acc: 0.9792 - val_loss: 0.2759 - val_acc: 0.9219\n",
      "Epoch 55/200\n",
      "1200/1200 [==============================] - 10s 8ms/step - loss: 0.1430 - acc: 0.9787 - val_loss: 0.2740 - val_acc: 0.9225\n",
      "Epoch 56/200\n",
      "1200/1200 [==============================] - 10s 8ms/step - loss: 0.1420 - acc: 0.9798 - val_loss: 0.2747 - val_acc: 0.9227\n",
      "Epoch 57/200\n",
      "1200/1200 [==============================] - 10s 8ms/step - loss: 0.1422 - acc: 0.9798 - val_loss: 0.2738 - val_acc: 0.9229\n",
      "Epoch 58/200\n",
      "1200/1200 [==============================] - 10s 8ms/step - loss: 0.1410 - acc: 0.9791 - val_loss: 0.2753 - val_acc: 0.9235\n",
      "Epoch 59/200\n",
      "1200/1200 [==============================] - 10s 8ms/step - loss: 0.1394 - acc: 0.9809 - val_loss: 0.2758 - val_acc: 0.9223\n",
      "Epoch 60/200\n",
      "1200/1200 [==============================] - 10s 8ms/step - loss: 0.1376 - acc: 0.9808 - val_loss: 0.2743 - val_acc: 0.9229\n",
      "Epoch 61/200\n",
      "1200/1200 [==============================] - 10s 8ms/step - loss: 0.1382 - acc: 0.9805 - val_loss: 0.2758 - val_acc: 0.9210\n",
      "Epoch 62/200\n",
      "1200/1200 [==============================] - 10s 8ms/step - loss: 0.1367 - acc: 0.9809 - val_loss: 0.2736 - val_acc: 0.9212\n",
      "Epoch 63/200\n",
      "1200/1200 [==============================] - 10s 8ms/step - loss: 0.1338 - acc: 0.9813 - val_loss: 0.2738 - val_acc: 0.9225\n",
      "Epoch 64/200\n",
      "1200/1200 [==============================] - 10s 8ms/step - loss: 0.1334 - acc: 0.9815 - val_loss: 0.2740 - val_acc: 0.9225\n",
      "Epoch 65/200\n",
      "1200/1200 [==============================] - 10s 8ms/step - loss: 0.1340 - acc: 0.9816 - val_loss: 0.2736 - val_acc: 0.9217\n",
      "Epoch 66/200\n",
      "1200/1200 [==============================] - 10s 8ms/step - loss: 0.1316 - acc: 0.9818 - val_loss: 0.2718 - val_acc: 0.9215\n",
      "Epoch 67/200\n",
      "1200/1200 [==============================] - 10s 8ms/step - loss: 0.1317 - acc: 0.9826 - val_loss: 0.2754 - val_acc: 0.9217\n",
      "Epoch 68/200\n",
      "1200/1200 [==============================] - 10s 8ms/step - loss: 0.1300 - acc: 0.9826 - val_loss: 0.2739 - val_acc: 0.9233\n",
      "Epoch 69/200\n",
      "1200/1200 [==============================] - 10s 8ms/step - loss: 0.1283 - acc: 0.9830 - val_loss: 0.2719 - val_acc: 0.9204\n",
      "Epoch 70/200\n",
      "1200/1200 [==============================] - 10s 8ms/step - loss: 0.1289 - acc: 0.9824 - val_loss: 0.2722 - val_acc: 0.9223\n",
      "Epoch 71/200\n",
      "1200/1200 [==============================] - 10s 8ms/step - loss: 0.1263 - acc: 0.9837 - val_loss: 0.2728 - val_acc: 0.9217\n",
      "Epoch 72/200\n",
      "1200/1200 [==============================] - 10s 8ms/step - loss: 0.1263 - acc: 0.9831 - val_loss: 0.2713 - val_acc: 0.9212\n",
      "Epoch 73/200\n",
      "1200/1200 [==============================] - 10s 8ms/step - loss: 0.1254 - acc: 0.9836 - val_loss: 0.2721 - val_acc: 0.9223\n",
      "Epoch 74/200\n",
      "1200/1200 [==============================] - 10s 8ms/step - loss: 0.1249 - acc: 0.9825 - val_loss: 0.2744 - val_acc: 0.9223\n",
      "Epoch 75/200\n",
      "1200/1200 [==============================] - 10s 8ms/step - loss: 0.1230 - acc: 0.9837 - val_loss: 0.2731 - val_acc: 0.9217\n",
      "Epoch 76/200\n",
      "1200/1200 [==============================] - 10s 8ms/step - loss: 0.1249 - acc: 0.9838 - val_loss: 0.2711 - val_acc: 0.9231\n",
      "Epoch 77/200\n",
      "1200/1200 [==============================] - 10s 8ms/step - loss: 0.1218 - acc: 0.9845 - val_loss: 0.2711 - val_acc: 0.9221\n",
      "Epoch 78/200\n",
      "1200/1200 [==============================] - 10s 8ms/step - loss: 0.1214 - acc: 0.9842 - val_loss: 0.2742 - val_acc: 0.9219\n",
      "Epoch 79/200\n",
      "1200/1200 [==============================] - 10s 8ms/step - loss: 0.1199 - acc: 0.9836 - val_loss: 0.2715 - val_acc: 0.9231\n",
      "Epoch 80/200\n",
      "1200/1200 [==============================] - 10s 8ms/step - loss: 0.1198 - acc: 0.9845 - val_loss: 0.2710 - val_acc: 0.9225\n",
      "Epoch 81/200\n",
      "1200/1200 [==============================] - 10s 8ms/step - loss: 0.1173 - acc: 0.9854 - val_loss: 0.2731 - val_acc: 0.9219\n",
      "Epoch 82/200\n",
      "1200/1200 [==============================] - 10s 8ms/step - loss: 0.1171 - acc: 0.9846 - val_loss: 0.2718 - val_acc: 0.9227\n",
      "Epoch 83/200\n",
      "1200/1200 [==============================] - 10s 8ms/step - loss: 0.1174 - acc: 0.9851 - val_loss: 0.2730 - val_acc: 0.9221\n",
      "Epoch 84/200\n",
      "1200/1200 [==============================] - 10s 8ms/step - loss: 0.1174 - acc: 0.9846 - val_loss: 0.2698 - val_acc: 0.9248\n",
      "Epoch 85/200\n",
      "1200/1200 [==============================] - 10s 8ms/step - loss: 0.1175 - acc: 0.9849 - val_loss: 0.2724 - val_acc: 0.9229\n",
      "Epoch 86/200\n",
      "1200/1200 [==============================] - 10s 8ms/step - loss: 0.1128 - acc: 0.9858 - val_loss: 0.2703 - val_acc: 0.9237\n",
      "Epoch 87/200\n",
      "1200/1200 [==============================] - 10s 8ms/step - loss: 0.1151 - acc: 0.9854 - val_loss: 0.2714 - val_acc: 0.9233\n",
      "Epoch 88/200\n",
      "1200/1200 [==============================] - 10s 8ms/step - loss: 0.1128 - acc: 0.9856 - val_loss: 0.2734 - val_acc: 0.9221\n",
      "Epoch 89/200\n",
      "1200/1200 [==============================] - 10s 8ms/step - loss: 0.1111 - acc: 0.9866 - val_loss: 0.2694 - val_acc: 0.9237\n",
      "Epoch 90/200\n",
      "1200/1200 [==============================] - 10s 8ms/step - loss: 0.1146 - acc: 0.9849 - val_loss: 0.2706 - val_acc: 0.9233\n",
      "Epoch 91/200\n",
      "1200/1200 [==============================] - 10s 8ms/step - loss: 0.1111 - acc: 0.9864 - val_loss: 0.2730 - val_acc: 0.9219\n",
      "Epoch 92/200\n",
      "1200/1200 [==============================] - 10s 8ms/step - loss: 0.1099 - acc: 0.9863 - val_loss: 0.2705 - val_acc: 0.9231\n",
      "Epoch 93/200\n",
      "1200/1200 [==============================] - 10s 8ms/step - loss: 0.1093 - acc: 0.9868 - val_loss: 0.2686 - val_acc: 0.9233\n",
      "Epoch 94/200\n",
      "1200/1200 [==============================] - 10s 8ms/step - loss: 0.1102 - acc: 0.9865 - val_loss: 0.2694 - val_acc: 0.9233\n",
      "Epoch 95/200\n",
      "1200/1200 [==============================] - 10s 8ms/step - loss: 0.1105 - acc: 0.9867 - val_loss: 0.2730 - val_acc: 0.9217\n",
      "Epoch 96/200\n",
      "1200/1200 [==============================] - 10s 8ms/step - loss: 0.1080 - acc: 0.9864 - val_loss: 0.2713 - val_acc: 0.9227\n",
      "Epoch 97/200\n",
      "1200/1200 [==============================] - 10s 8ms/step - loss: 0.1080 - acc: 0.9865 - val_loss: 0.2695 - val_acc: 0.9229\n",
      "Epoch 98/200\n",
      "1200/1200 [==============================] - 10s 8ms/step - loss: 0.1076 - acc: 0.9867 - val_loss: 0.2705 - val_acc: 0.9225\n",
      "Epoch 99/200\n",
      "1200/1200 [==============================] - 10s 8ms/step - loss: 0.1110 - acc: 0.9870 - val_loss: 0.2684 - val_acc: 0.9231\n",
      "Epoch 100/200\n",
      "1200/1200 [==============================] - 10s 8ms/step - loss: 0.1050 - acc: 0.9871 - val_loss: 0.2707 - val_acc: 0.9242\n",
      "Epoch 101/200\n",
      "1200/1200 [==============================] - 10s 8ms/step - loss: 0.1058 - acc: 0.9872 - val_loss: 0.2744 - val_acc: 0.9231\n",
      "Epoch 102/200\n",
      "1200/1200 [==============================] - 10s 8ms/step - loss: 0.1052 - acc: 0.9868 - val_loss: 0.2700 - val_acc: 0.9221\n",
      "Epoch 103/200\n",
      "1200/1200 [==============================] - 10s 8ms/step - loss: 0.1047 - acc: 0.9863 - val_loss: 0.2698 - val_acc: 0.9221\n",
      "Epoch 104/200\n",
      "1200/1200 [==============================] - 10s 8ms/step - loss: 0.1052 - acc: 0.9874 - val_loss: 0.2688 - val_acc: 0.9237\n",
      "Epoch 105/200\n",
      "1200/1200 [==============================] - 10s 8ms/step - loss: 0.1048 - acc: 0.9861 - val_loss: 0.2700 - val_acc: 0.9215\n",
      "Epoch 106/200\n",
      "1200/1200 [==============================] - 10s 8ms/step - loss: 0.1051 - acc: 0.9867 - val_loss: 0.2726 - val_acc: 0.9221\n",
      "Epoch 107/200\n",
      "1200/1200 [==============================] - 10s 8ms/step - loss: 0.1045 - acc: 0.9865 - val_loss: 0.2675 - val_acc: 0.9231\n",
      "Epoch 108/200\n",
      "1200/1200 [==============================] - 10s 8ms/step - loss: 0.1024 - acc: 0.9873 - val_loss: 0.2688 - val_acc: 0.9221\n",
      "Epoch 109/200\n",
      "1200/1200 [==============================] - 10s 8ms/step - loss: 0.1021 - acc: 0.9870 - val_loss: 0.2717 - val_acc: 0.9219\n",
      "Epoch 110/200\n",
      "1200/1200 [==============================] - 10s 8ms/step - loss: 0.1003 - acc: 0.9881 - val_loss: 0.2696 - val_acc: 0.9223\n",
      "Epoch 111/200\n",
      "1200/1200 [==============================] - 10s 8ms/step - loss: 0.1015 - acc: 0.9881 - val_loss: 0.2717 - val_acc: 0.9210\n",
      "Epoch 112/200\n",
      "1200/1200 [==============================] - 10s 8ms/step - loss: 0.0987 - acc: 0.9877 - val_loss: 0.2722 - val_acc: 0.9206\n",
      "Epoch 113/200\n",
      "1200/1200 [==============================] - 10s 9ms/step - loss: 0.1004 - acc: 0.9878 - val_loss: 0.2721 - val_acc: 0.9206\n",
      "Epoch 114/200\n",
      "1200/1200 [==============================] - 10s 8ms/step - loss: 0.1010 - acc: 0.9882 - val_loss: 0.2699 - val_acc: 0.9217\n",
      "Epoch 115/200\n",
      "1200/1200 [==============================] - 10s 8ms/step - loss: 0.0983 - acc: 0.9885 - val_loss: 0.2698 - val_acc: 0.9229\n",
      "Epoch 116/200\n",
      "1200/1200 [==============================] - 10s 8ms/step - loss: 0.0985 - acc: 0.9879 - val_loss: 0.2730 - val_acc: 0.9204\n",
      "Epoch 117/200\n",
      "1200/1200 [==============================] - 10s 8ms/step - loss: 0.0988 - acc: 0.9878 - val_loss: 0.2703 - val_acc: 0.9215\n",
      "Epoch 118/200\n",
      "1200/1200 [==============================] - 10s 8ms/step - loss: 0.0967 - acc: 0.9888 - val_loss: 0.2699 - val_acc: 0.9227\n",
      "Epoch 119/200\n",
      "1200/1200 [==============================] - 10s 8ms/step - loss: 0.0994 - acc: 0.9879 - val_loss: 0.2705 - val_acc: 0.9223\n",
      "Epoch 120/200\n",
      "1200/1200 [==============================] - 10s 8ms/step - loss: 0.0982 - acc: 0.9879 - val_loss: 0.2725 - val_acc: 0.9212\n",
      "Epoch 121/200\n",
      "1200/1200 [==============================] - 10s 8ms/step - loss: 0.0956 - acc: 0.9889 - val_loss: 0.2719 - val_acc: 0.9237\n",
      "Epoch 122/200\n",
      "1200/1200 [==============================] - 10s 8ms/step - loss: 0.0966 - acc: 0.9887 - val_loss: 0.2701 - val_acc: 0.9204\n",
      "Epoch 123/200\n",
      "1200/1200 [==============================] - 10s 8ms/step - loss: 0.0963 - acc: 0.9886 - val_loss: 0.2700 - val_acc: 0.9223\n",
      "Epoch 124/200\n",
      "1200/1200 [==============================] - 10s 8ms/step - loss: 0.0966 - acc: 0.9884 - val_loss: 0.2686 - val_acc: 0.9235\n",
      "Epoch 125/200\n",
      "1200/1200 [==============================] - 10s 8ms/step - loss: 0.0941 - acc: 0.9887 - val_loss: 0.2677 - val_acc: 0.9231\n",
      "Epoch 126/200\n",
      "1200/1200 [==============================] - 10s 8ms/step - loss: 0.0930 - acc: 0.9896 - val_loss: 0.2692 - val_acc: 0.9225\n",
      "Epoch 127/200\n",
      "1200/1200 [==============================] - 10s 8ms/step - loss: 0.0935 - acc: 0.9895 - val_loss: 0.2700 - val_acc: 0.9210\n",
      "Epoch 128/200\n",
      "1200/1200 [==============================] - 10s 8ms/step - loss: 0.0946 - acc: 0.9890 - val_loss: 0.2700 - val_acc: 0.9219\n",
      "Epoch 129/200\n",
      "1200/1200 [==============================] - 10s 8ms/step - loss: 0.0951 - acc: 0.9884 - val_loss: 0.2689 - val_acc: 0.9210\n",
      "Epoch 130/200\n",
      "1200/1200 [==============================] - 10s 8ms/step - loss: 0.0934 - acc: 0.9891 - val_loss: 0.2733 - val_acc: 0.9231\n",
      "Epoch 131/200\n",
      "1200/1200 [==============================] - 9s 8ms/step - loss: 0.0970 - acc: 0.9879 - val_loss: 0.2690 - val_acc: 0.9229\n",
      "Epoch 132/200\n",
      "1200/1200 [==============================] - 9s 8ms/step - loss: 0.0923 - acc: 0.9893 - val_loss: 0.2683 - val_acc: 0.9229\n",
      "Epoch 133/200\n",
      "1200/1200 [==============================] - 9s 8ms/step - loss: 0.0931 - acc: 0.9894 - val_loss: 0.2689 - val_acc: 0.9242\n",
      "Epoch 134/200\n",
      "1200/1200 [==============================] - 9s 8ms/step - loss: 0.0933 - acc: 0.9894 - val_loss: 0.2720 - val_acc: 0.9233\n",
      "Epoch 135/200\n",
      "1200/1200 [==============================] - 10s 8ms/step - loss: 0.0925 - acc: 0.9901 - val_loss: 0.2700 - val_acc: 0.9227\n",
      "Epoch 136/200\n",
      "1200/1200 [==============================] - 9s 8ms/step - loss: 0.0900 - acc: 0.9897 - val_loss: 0.2724 - val_acc: 0.9225\n",
      "Epoch 137/200\n",
      "1200/1200 [==============================] - 9s 8ms/step - loss: 0.0931 - acc: 0.9890 - val_loss: 0.2710 - val_acc: 0.9219\n"
     ]
    }
   ],
   "source": [
    " # starts training\n",
    "history = cnn.fit(X_train, y_train,\n",
    "                  batch_size=32, \n",
    "                  epochs=200, \n",
    "                  verbose=1,\n",
    "                  validation_data=(X_val,y_val),\n",
    "                  callbacks=callbacks) "
   ]
  },
  {
   "cell_type": "code",
   "execution_count": 20,
   "metadata": {},
   "outputs": [
    {
     "name": "stdout",
     "output_type": "stream",
     "text": [
      "Model: \"text_cnn\"\n",
      "_________________________________________________________________\n",
      "Layer (type)                 Output Shape              Param #   \n",
      "=================================================================\n",
      "embedding (Embedding)        multiple                  10701300  \n",
      "_________________________________________________________________\n",
      "sequential (Sequential)      (32, 1, 1, 100)           90100     \n",
      "_________________________________________________________________\n",
      "sequential_1 (Sequential)    (32, 1, 1, 100)           120100    \n",
      "_________________________________________________________________\n",
      "sequential_2 (Sequential)    (32, 1, 1, 100)           150100    \n",
      "_________________________________________________________________\n",
      "prediction (Dense)           multiple                  1806      \n",
      "_________________________________________________________________\n",
      "flatten (Flatten)            multiple                  0         \n",
      "_________________________________________________________________\n",
      "reshape (Reshape)            multiple                  0         \n",
      "_________________________________________________________________\n",
      "dropout (Dropout)            multiple                  0         \n",
      "=================================================================\n",
      "Total params: 11,063,406\n",
      "Trainable params: 362,106\n",
      "Non-trainable params: 10,701,300\n",
      "_________________________________________________________________\n"
     ]
    }
   ],
   "source": [
    "cnn.summary()"
   ]
  },
  {
   "cell_type": "markdown",
   "metadata": {},
   "source": [
    "# 5. Result"
   ]
  },
  {
   "cell_type": "code",
   "execution_count": 21,
   "metadata": {},
   "outputs": [
    {
     "name": "stdout",
     "output_type": "stream",
     "text": [
      "\n",
      "150/150 [==============================] - 0s 3ms/step - loss: 0.3082 - acc: 0.9112\n",
      "\n",
      "loss: 30.82%\n",
      "Accuracy: 91.12%\n"
     ]
    }
   ],
   "source": [
    "# final evaluation of the model\n",
    "print (\"\")\n",
    "scores = cnn.evaluate(X_test, y_test, verbose=1)\n",
    "print (\"\")\n",
    "print (\"loss: %.2f%%\" % (scores[0] * 100))\n",
    "print (\"Accuracy: %.2f%%\" % (scores[1] * 100))"
   ]
  },
  {
   "cell_type": "code",
   "execution_count": 28,
   "metadata": {},
   "outputs": [
    {
     "data": {
      "image/png": "[encoded data removed]",
      "text/plain": [
       "<Figure size 576x360 with 1 Axes>"
      ]
     },
     "metadata": {
      "needs_background": "light"
     },
     "output_type": "display_data"
    }
   ],
   "source": [
    "pd.DataFrame(history.history).plot(figsize=(8,5))\n",
    "plt.grid(True)\n",
    "plt.gca().set_ylim(0,1)\n",
    "plt.savefig('savefig_500dpi.png', dpi=500)"
   ]
  },
  {
   "cell_type": "code",
   "execution_count": 23,
   "metadata": {},
   "outputs": [
    {
     "name": "stdout",
     "output_type": "stream",
     "text": [
      "probability\n",
      "[[0.   0.   0.   0.   1.   0.  ]\n",
      " [1.   0.   0.   0.   0.   0.  ]\n",
      " [0.   0.   1.   0.   0.   0.  ]\n",
      " ...\n",
      " [0.13 0.04 0.02 0.02 0.78 0.01]\n",
      " [0.99 0.   0.   0.   0.   0.  ]\n",
      " [0.   0.   0.   0.   0.   1.  ]]\n",
      "\n",
      "predict\n",
      "['sad' 'angry' 'fear' ... 'sad' 'angry' 'surprised']\n",
      "\n",
      "감정 개수 별 예측\n",
      "Counter({'sad': 857, 'happy': 844, 'angry': 819, 'surprised': 787, 'fear': 764, 'disgust': 729})\n"
     ]
    }
   ],
   "source": [
    "y_proba = cnn.predict(X_test)\n",
    "print(\"probability\")\n",
    "print(y_proba.round(2))\n",
    "\n",
    "\n",
    "class_names = cat_encoder.categories_[0]\n",
    "y_pred = np.argmax(y_proba,axis=1)\n",
    "print()\n",
    "print(\"predict\")\n",
    "print(class_names[y_pred])\n",
    "print()\n",
    "print(\"감정 개수 별 예측\")\n",
    "print(Counter(class_names[y_pred]))"
   ]
  },
  {
   "cell_type": "markdown",
   "metadata": {},
   "source": [
    "---"
   ]
  },
  {
   "cell_type": "markdown",
   "metadata": {},
   "source": [
    "# Alpha\n",
    "## 함수형 API"
   ]
  },
  {
   "cell_type": "code",
   "execution_count": 91,
   "metadata": {},
   "outputs": [],
   "source": [
    "vocab_size, embedding_dim = embedding_matrix.shape\n",
    "\n",
    "\n",
    "# functional\n",
    "sequence_length = X_train.shape[1]\n",
    "inputs = tf.keras.layers.Input(shape=(max_sequence_length,))\n",
    "embedding = tf.keras.layers.Embedding(vocab_size, EMBEDDING_DIM,\n",
    "                                   weights=[embedding_matrix],\n",
    "                                   trainable=True)(inputs)\n",
    "reshape = tf.keras.layers.Reshape((sequence_length,EMBEDDING_DIM,1))(embedding)\n",
    "\n",
    "conv_0 = tf.keras.layers.Conv2D(num_filters, (filter_sizes[0], EMBEDDING_DIM),activation='relu',\n",
    "                            kernel_regularizer=tf.keras.regularizers.l2(0.01))(reshape)\n",
    "conv_1 = tf.keras.layers.Conv2D(num_filters, (filter_sizes[1], EMBEDDING_DIM),activation='relu',\n",
    "                            kernel_regularizer=tf.keras.regularizers.l2(0.01))(reshape)\n",
    "conv_2 = tf.keras.layers.Conv2D(num_filters, (filter_sizes[2], EMBEDDING_DIM),activation='relu',\n",
    "                            kernel_regularizer=tf.keras.regularizers.l2(0.01))(reshape)\n",
    "\n",
    "maxpool_0 = tf.keras.layers.MaxPooling2D((sequence_length - filter_sizes[0] + 1, 1), \n",
    "                                      strides=(1,1))(conv_0)\n",
    "maxpool_1 = tf.keras.layers.MaxPooling2D((sequence_length - filter_sizes[1] + 1, 1), \n",
    "                                      strides=(1,1))(conv_1)\n",
    "maxpool_2 = tf.keras.layers.MaxPooling2D((sequence_length - filter_sizes[2] + 1, 1), \n",
    "                                      strides=(1,1))(conv_2)\n",
    "\n",
    "# pool_outputs = concatenate([maxpool_0, maxpool_1, maxpool_2], axis=1)\n",
    "pool_outputs = tf.keras.layers.Concatenate()([maxpool_0, maxpool_1, maxpool_2])\n",
    "\n",
    "flatten = tf.keras.layers.Flatten()(pool_outputs)\n",
    "dropout = tf.keras.layers.Dropout(drop_prob)(flatten)\n",
    "output = Dense(units=6, \n",
    "               activation='softmax',\n",
    "               kernel_regularizer=tf.keras.regularizers.l2(0.01))(dropout)\n",
    "\n",
    "# this creates a model that includes\n",
    "model = tf.keras.Model(inputs, output)"
   ]
  },
  {
   "cell_type": "code",
   "execution_count": null,
   "metadata": {},
   "outputs": [],
   "source": []
  },
  {
   "cell_type": "markdown",
   "metadata": {},
   "source": [
    "# 2018ver"
   ]
  },
  {
   "cell_type": "code",
   "execution_count": 30,
   "metadata": {
    "ExecuteTime": {
     "end_time": "2020-07-14T05:04:55.795053Z",
     "start_time": "2020-07-14T05:04:55.665401Z"
    },
    "code_folding": [
     0
    ],
    "collapsed": true,
    "jupyter": {
     "outputs_hidden": true
    }
   },
   "outputs": [],
   "source": [
    "def cnn_model(dropout):   \n",
    "    # gpu 설정\n",
    "    with K.tf.device('/gpu:0'):\n",
    "        model_Conv2 = Sequential()        \n",
    "\n",
    "        EMBEDDING_DIM = 300\n",
    "        MAX_SEQUENCE_LENGTH = 20\n",
    "        \n",
    "        # 3 Conv1D layers\n",
    "        model_Conv2.add(Embedding(len(word_index),\n",
    "                        EMBEDDING_DIM,\n",
    "                        weights = [embedding_matrix],\n",
    "                        input_length = MAX_SEQUENCE_LENGTH,\n",
    "                        trainable = False) )\n",
    "        \n",
    "        model_Conv2.add(Conv1D(256,\n",
    "                            1,\n",
    "                            padding='same',\n",
    "                            activation='relu',\n",
    "                            strides= 1))\n",
    "        model_Conv2.add(Dropout(dropout))\n",
    "        \n",
    "        model_Conv2.add(Conv1D(256,\n",
    "                            1,\n",
    "                            padding='same',\n",
    "                            activation='relu',\n",
    "                            strides= 1))\n",
    "        model_Conv2.add(Dropout(dropout))\n",
    "        \n",
    "        model_Conv2.add(Conv1D(256,\n",
    "                            1,\n",
    "                            padding='same',\n",
    "                            activation='relu',\n",
    "                            strides= 1))\n",
    "        model_Conv2.add(Dropout(dropout))\n",
    "\n",
    "        model_Conv2.add(GlobalMaxPooling1D())\n",
    "        \n",
    "        model_Conv2.add(Dense(256, activation='relu'))\n",
    "        model_Conv2.add(Dropout(dropout))\n",
    "        \n",
    "        model_Conv2.add(Dense(64, activation='relu'))\n",
    "        model_Conv2.add(Dropout(dropout))\n",
    "\n",
    "        model_Conv2.add(Dense(6, activation='softmax'))\n",
    "        \n",
    "        # optimizer 사용\n",
    "        Adam = optimizers.Adam(lr=0.0001, beta_1=0.9, beta_2=0.999)\n",
    "        \n",
    "        model_Conv2.compile(\n",
    "            loss = 'categorical_crossentropy',\n",
    "            optimizer = Adam,\n",
    "            metrics = ['accuracy'])\n",
    "        \n",
    "        model_Conv2.summary()\n",
    "        # Model 학습, tensorflow chart 활용\n",
    "        # tb_hist = tf.keras.callbacks.TensorBoard(log_dir = './graph', histogram_freq = 0, \n",
    "        #                                           write_graph = True, write_images = True)\n",
    "        conv_model2 = model_Conv2.fit(\n",
    "            X_train, y_train,\n",
    "            epochs = 200, batch_size = 64,\n",
    "            validation_split = 0.1,#0.1로 고정할 것\n",
    "            callbacks = [EarlyStopping(monitor = 'val_loss', patience = 10)], # tb_hist\n",
    "            verbose = 1,\n",
    "            shuffle=True)\n",
    "\n",
    "        # final evaluation of the model\n",
    "        print (\"\")\n",
    "        scores = model_Conv2.evaluate(X_test, y_test, verbose=1)\n",
    "        print (\"\")\n",
    "        print (\"loss: %.2f%%\" % (scores[0] * 100))\n",
    "        print (\"Accuracy: %.2f%%\" % (scores[1] * 100))\n",
    "\n",
    "        # 과정 살펴보기\n",
    "        matplotlib.rcParams.update({'font.size': 12})\n",
    "        fig, loss_ax = plt.subplots()\n",
    "        #krkwplt.style.use(\"ggplot\")\n",
    "        acc_ax = loss_ax.twinx()\n",
    "\n",
    "        loss_ax.plot(conv_model2.history['loss'], 'y', label= 'train loss')\n",
    "        loss_ax.plot(conv_model2.history['val_loss'], 'r', label= 'val loss')\n",
    "\n",
    "        acc_ax.plot(conv_model2.history['accuracy'], 'b', label = 'train acc')\n",
    "        acc_ax.plot(conv_model2.history['val_accuracy'], 'g', label = 'val acc')\n",
    "\n",
    "        loss_ax.set_xlabel('epoch')\n",
    "        loss_ax.set_ylabel('loss')\n",
    "        acc_ax.set_ylabel('accuracy')\n",
    "\n",
    "        loss_ax.legend(loc='right')\n",
    "        acc_ax.legend(loc='best')\n",
    "        fig = plt.gcf()\n",
    "        plt.title(\"CNN Model\")\n",
    "        plt.show()\n",
    "        \n",
    "        return model_Conv2"
   ]
  }
 ],
 "metadata": {
  "kernelspec": {
   "display_name": "Python 3",
   "language": "python",
   "name": "python3"
  },
  "language_info": {
   "codemirror_mode": {
    "name": "ipython",
    "version": 3
   },
   "file_extension": ".py",
   "mimetype": "text/x-python",
   "name": "python",
   "nbconvert_exporter": "python",
   "pygments_lexer": "ipython3",
   "version": "3.6.10"
  },
  "toc": {
   "base_numbering": 1,
   "nav_menu": {},
   "number_sections": true,
   "sideBar": true,
   "skip_h1_title": false,
   "title_cell": "Table of Contents",
   "title_sidebar": "Contents",
   "toc_cell": false,
   "toc_position": {},
   "toc_section_display": true,
   "toc_window_display": false
  },
  "toc-autonumbering": false,
  "varInspector": {
   "cols": {
    "lenName": 16,
    "lenType": 16,
    "lenVar": 40
   },
   "kernels_config": {
    "python": {
     "delete_cmd_postfix": "",
     "delete_cmd_prefix": "del ",
     "library": "var_list.py",
     "varRefreshCmd": "print(var_dic_list())"
    },
    "r": {
     "delete_cmd_postfix": ") ",
     "delete_cmd_prefix": "rm(",
     "library": "var_list.r",
     "varRefreshCmd": "cat(var_dic_list()) "
    }
   },
   "types_to_exclude": [
    "module",
    "function",
    "builtin_function_or_method",
    "instance",
    "_Feature"
   ],
   "window_display": false
  }
 },
 "nbformat": 4,
 "nbformat_minor": 4
}
