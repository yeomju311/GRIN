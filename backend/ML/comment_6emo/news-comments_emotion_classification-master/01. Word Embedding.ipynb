{
 "cells": [
  {
   "cell_type": "code",
   "execution_count": null,
   "metadata": {
    "pycharm": {
     "name": "#%%\n"
    }
   },
   "outputs": [],
   "source": [
    "!pip install konlpy\n",
    "!pip install gensim"
   ]
  },
  {
   "cell_type": "code",
   "execution_count": 6,
   "metadata": {},
   "outputs": [],
   "source": [
    "import pandas as pd\n",
    "import numpy as np\n",
    "import os\n",
    "import sys\n",
    "\n",
    "\n",
    "from  util import load_data\n",
    "from  util.text_preprocessing import  tokenize_okt, count_comment\n",
    "\n",
    "import tqdm"
   ]
  },
  {
   "cell_type": "code",
   "execution_count": null,
   "outputs": [],
   "source": [],
   "metadata": {
    "collapsed": false,
    "pycharm": {
     "name": "#%%\n"
    }
   }
  },
  {
   "cell_type": "code",
   "execution_count": 5,
   "metadata": {
    "ExecuteTime": {
     "end_time": "2020-03-27T09:30:51.056025Z",
     "start_time": "2020-03-27T09:30:49.673723Z"
    }
   },
   "outputs": [
    {
     "ename": "ImportError",
     "evalue": "cannot import name 'load_data' from 'util.text_preprocessing' (C:\\Users\\multicampus\\PycharmProjects\\s03p23a201\\backend\\ML\\comment_6emo\\news-comments_emotion_classification-master\\util\\text_preprocessing.py)",
     "output_type": "error",
     "traceback": [
      "\u001B[1;31m---------------------------------------------------------------------------\u001B[0m",
      "\u001B[1;31mImportError\u001B[0m                               Traceback (most recent call last)",
      "\u001B[1;32m<ipython-input-5-2c8b906f5e26>\u001B[0m in \u001B[0;36m<module>\u001B[1;34m\u001B[0m\n\u001B[0;32m      5\u001B[0m \u001B[0msys\u001B[0m\u001B[1;33m.\u001B[0m\u001B[0mpath\u001B[0m\u001B[1;33m.\u001B[0m\u001B[0mappend\u001B[0m\u001B[1;33m(\u001B[0m\u001B[1;34m\"..\"\u001B[0m\u001B[1;33m)\u001B[0m\u001B[1;33m\u001B[0m\u001B[1;33m\u001B[0m\u001B[0m\n\u001B[0;32m      6\u001B[0m \u001B[1;33m\u001B[0m\u001B[0m\n\u001B[1;32m----> 7\u001B[1;33m \u001B[1;32mfrom\u001B[0m \u001B[0mutil\u001B[0m\u001B[1;33m.\u001B[0m\u001B[0mtext_preprocessing\u001B[0m \u001B[1;32mimport\u001B[0m \u001B[0mload_data\u001B[0m\u001B[1;33m,\u001B[0m \u001B[0mtokenize_okt\u001B[0m\u001B[1;33m,\u001B[0m \u001B[0mcount_comment\u001B[0m\u001B[1;33m\u001B[0m\u001B[1;33m\u001B[0m\u001B[0m\n\u001B[0m\u001B[0;32m      8\u001B[0m \u001B[1;33m\u001B[0m\u001B[0m\n\u001B[0;32m      9\u001B[0m \u001B[1;32mimport\u001B[0m \u001B[0mtqdm\u001B[0m\u001B[1;33m\u001B[0m\u001B[1;33m\u001B[0m\u001B[0m\n",
      "\u001B[1;31mImportError\u001B[0m: cannot import name 'load_data' from 'util.text_preprocessing' (C:\\Users\\multicampus\\PycharmProjects\\s03p23a201\\backend\\ML\\comment_6emo\\news-comments_emotion_classification-master\\util\\text_preprocessing.py)"
     ]
    }
   ],
   "source": [
    "# Load Data"
   ]
  },
  {
   "cell_type": "markdown",
   "metadata": {},
   "source": [
    "# Load Data"
   ]
  },
  {
   "cell_type": "code",
   "execution_count": 7,
   "metadata": {
    "ExecuteTime": {
     "end_time": "2020-03-27T09:30:52.092255Z",
     "start_time": "2020-03-27T09:30:52.088267Z"
    }
   },
   "outputs": [],
   "source": [
    "DATA_PATH = os.path.normpath('dataset/daum_comments_2017/')"
   ]
  },
  {
   "cell_type": "code",
   "execution_count": 8,
   "metadata": {
    "ExecuteTime": {
     "end_time": "2020-03-27T09:30:52.402426Z",
     "start_time": "2020-03-27T09:30:52.392454Z"
    }
   },
   "outputs": [
    {
     "ename": "FileNotFoundError",
     "evalue": "[WinError 3] 지정된 경로를 찾을 수 없습니다: 'dataset\\\\daum_comments_2017\\\\raw_data'",
     "output_type": "error",
     "traceback": [
      "\u001B[1;31m---------------------------------------------------------------------------\u001B[0m",
      "\u001B[1;31mFileNotFoundError\u001B[0m                         Traceback (most recent call last)",
      "\u001B[1;32m<ipython-input-8-ecec6e4c90b4>\u001B[0m in \u001B[0;36m<module>\u001B[1;34m\u001B[0m\n\u001B[1;32m----> 1\u001B[1;33m \u001B[1;33m[\u001B[0m\u001B[0mpath\u001B[0m \u001B[1;32mfor\u001B[0m \u001B[0mpath\u001B[0m \u001B[1;32min\u001B[0m \u001B[0mos\u001B[0m\u001B[1;33m.\u001B[0m\u001B[0mlistdir\u001B[0m\u001B[1;33m(\u001B[0m\u001B[0mos\u001B[0m\u001B[1;33m.\u001B[0m\u001B[0mpath\u001B[0m\u001B[1;33m.\u001B[0m\u001B[0mjoin\u001B[0m\u001B[1;33m(\u001B[0m\u001B[0mDATA_PATH\u001B[0m\u001B[1;33m,\u001B[0m\u001B[1;34m\"raw_data\"\u001B[0m\u001B[1;33m)\u001B[0m\u001B[1;33m)\u001B[0m \u001B[1;32mif\u001B[0m \u001B[1;33m(\u001B[0m\u001B[0mpath\u001B[0m\u001B[1;33m[\u001B[0m\u001B[1;33m-\u001B[0m\u001B[1;36m3\u001B[0m\u001B[1;33m:\u001B[0m\u001B[1;33m]\u001B[0m \u001B[1;33m==\u001B[0m \u001B[1;34m'txt'\u001B[0m\u001B[1;33m)\u001B[0m\u001B[1;33m&\u001B[0m\u001B[1;33m(\u001B[0m\u001B[1;34m'non'\u001B[0m \u001B[1;32min\u001B[0m \u001B[0mpath\u001B[0m\u001B[1;33m)\u001B[0m\u001B[1;33m]\u001B[0m\u001B[1;33m\u001B[0m\u001B[1;33m\u001B[0m\u001B[0m\n\u001B[0m",
      "\u001B[1;31mFileNotFoundError\u001B[0m: [WinError 3] 지정된 경로를 찾을 수 없습니다: 'dataset\\\\daum_comments_2017\\\\raw_data'"
     ]
    }
   ],
   "source": [
    "[path for path in os.listdir(os.path.join(DATA_PATH,\"raw_data\")) if (path[-3:] == 'txt')&('non' in path)]"
   ]
  },
  {
   "cell_type": "code",
   "execution_count": 7,
   "metadata": {
    "ExecuteTime": {
     "end_time": "2020-03-21T07:06:21.089964Z",
     "start_time": "2020-03-21T07:06:21.084978Z"
    },
    "scrolled": true
   },
   "outputs": [
    {
     "name": "stdout",
     "output_type": "stream",
     "text": [
      "daum_comments_201712_non_entertain.txt\n",
      "312267\n",
      "@@@@@@\n",
      "daum_comments_201709_non_entertain.txt\n",
      "433686\n",
      "@@@@@@\n",
      "daum_comments_201710_non_entertain.txt\n",
      "34022\n",
      "@@@@@@\n",
      "daum_comments_201708_non_entertain.txt\n",
      "411888\n",
      "@@@@@@\n",
      "daum_comments_201711_non_entertain.txt\n",
      "220887\n",
      "@@@@@@\n",
      "daum_comments_201707_non_entertain.txt\n",
      "371725\n",
      "@@@@@@\n"
     ]
    }
   ],
   "source": [
    "total_comments_df = pd.DataFrame()\n",
    "path_only_txt = [path for path in os.listdir(os.path.join(DATA_PATH,\"raw_data\")) \\\n",
    "                 if (path[-3:] == 'txt')&('non' in path)]\n",
    "\n",
    "for path in path_only_txt:\n",
    "    print(path)\n",
    "    data_df = load_data(os.path.join(DATA_PATH,'raw_data',path))\n",
    "    data_df = data_df[data_df.comment != \"\"]\n",
    "    total_comments_df = total_comments_df.append(data_df)"
   ]
  },
  {
   "cell_type": "code",
   "execution_count": 6,
   "metadata": {
    "ExecuteTime": {
     "end_time": "2020-03-21T07:06:25.423377Z",
     "start_time": "2020-03-21T07:06:23.032770Z"
    },
    "scrolled": true
   },
   "outputs": [
    {
     "name": "stdout",
     "output_type": "stream",
     "text": [
      "(1780402, 3)\n"
     ]
    },
    {
     "data": {
      "text/html": [
       "<div>\n",
       "<style scoped>\n",
       "    .dataframe tbody tr th:only-of-type {\n",
       "        vertical-align: middle;\n",
       "    }\n",
       "\n",
       "    .dataframe tbody tr th {\n",
       "        vertical-align: top;\n",
       "    }\n",
       "\n",
       "    .dataframe thead th {\n",
       "        text-align: right;\n",
       "    }\n",
       "</style>\n",
       "<table border=\"1\" class=\"dataframe\">\n",
       "  <thead>\n",
       "    <tr style=\"text-align: right;\">\n",
       "      <th></th>\n",
       "      <th>news_id</th>\n",
       "      <th>comment_id</th>\n",
       "      <th>comment</th>\n",
       "    </tr>\n",
       "  </thead>\n",
       "  <tbody>\n",
       "    <tr>\n",
       "      <th>57471</th>\n",
       "      <td>20171107054548817</td>\n",
       "      <td>4404D996071D4E12857BE97F5ED5B9F4</td>\n",
       "      <td>억울해서가 아니라 불안해서 겟지...</td>\n",
       "    </tr>\n",
       "    <tr>\n",
       "      <th>88322</th>\n",
       "      <td>20170809092231879</td>\n",
       "      <td>BA95196182774614827AADCBA0551FD3</td>\n",
       "      <td>어린것들이 일찍 결혼하면 이런 문제가 발생 할다니깐.....................</td>\n",
       "    </tr>\n",
       "    <tr>\n",
       "      <th>154714</th>\n",
       "      <td>20171211063031702</td>\n",
       "      <td>331259E8A1A541C2BB23C4940543F158</td>\n",
       "      <td>왜  학부모가 하는건데? 고학년학생 선생님들이 나와서해라..</td>\n",
       "    </tr>\n",
       "    <tr>\n",
       "      <th>39479</th>\n",
       "      <td>20170703114432116</td>\n",
       "      <td>E4B7B213FB5E4F1B96CAC8F38786CC8F</td>\n",
       "      <td>신고포상금 꼭 드리세요</td>\n",
       "    </tr>\n",
       "    <tr>\n",
       "      <th>215829</th>\n",
       "      <td>20170818165739229</td>\n",
       "      <td>C83A7F51E15E42DCB256DC4A2A390240</td>\n",
       "      <td>나이에 상관없이 혼자 사는 사람들은  정기적으로 동사무소 같은 곳에서   생사 확인했으면</td>\n",
       "    </tr>\n",
       "  </tbody>\n",
       "</table>\n",
       "</div>"
      ],
      "text/plain": [
       "                  news_id                        comment_id  \\\n",
       "57471   20171107054548817  4404D996071D4E12857BE97F5ED5B9F4   \n",
       "88322   20170809092231879  BA95196182774614827AADCBA0551FD3   \n",
       "154714  20171211063031702  331259E8A1A541C2BB23C4940543F158   \n",
       "39479   20170703114432116  E4B7B213FB5E4F1B96CAC8F38786CC8F   \n",
       "215829  20170818165739229  C83A7F51E15E42DCB256DC4A2A390240   \n",
       "\n",
       "                                                  comment  \n",
       "57471                                억울해서가 아니라 불안해서 겟지...  \n",
       "88322   어린것들이 일찍 결혼하면 이런 문제가 발생 할다니깐.....................  \n",
       "154714                  왜  학부모가 하는건데? 고학년학생 선생님들이 나와서해라..  \n",
       "39479                                        신고포상금 꼭 드리세요  \n",
       "215829  나이에 상관없이 혼자 사는 사람들은  정기적으로 동사무소 같은 곳에서   생사 확인했으면  "
      ]
     },
     "execution_count": 6,
     "metadata": {},
     "output_type": "execute_result"
    }
   ],
   "source": [
    "#total_comments_df.to_pickle(os.path.join(DATA_PATH,\"200710 non_entertain-total-comments.pkl\"))\n",
    "total_comments_df = pd.read_pickle(os.path.join(DATA_PATH,\"200710 non_entertain-total-comments.pkl\"))\n",
    "print(total_comments_df.shape)\n",
    "total_comments_df.sample(5)"
   ]
  },
  {
   "cell_type": "markdown",
   "metadata": {},
   "source": [
    "# Tokenize comments\n",
    "\n",
    "- 추출 태그 = [명사 동사 형용사]\n",
    "- stopwords = [\"것\", \"이\", \"안\", \"더\", \"왜\", \"때\", \"좀\", \"뭐\", \"거\", \"저\", \"뿐\", \"머\"]"
   ]
  },
  {
   "cell_type": "code",
   "execution_count": 7,
   "metadata": {
    "ExecuteTime": {
     "end_time": "2020-03-21T09:46:45.743724Z",
     "start_time": "2020-03-21T07:06:49.806561Z"
    }
   },
   "outputs": [
    {
     "name": "stderr",
     "output_type": "stream",
     "text": [
      "100%|██████████| 1780402/1780402 [2:03:15<00:00, 240.75it/s]  \n"
     ]
    }
   ],
   "source": [
    "token_data = []\n",
    "\n",
    "for comment in tqdm.tqdm(total_comments_df.comment):\n",
    "    token = tokenize_okt(comment)\n",
    "    token_data.append(token)                                                                                           "
   ]
  },
  {
   "cell_type": "code",
   "execution_count": 14,
   "metadata": {
    "ExecuteTime": {
     "end_time": "2020-03-21T09:47:12.484224Z",
     "start_time": "2020-03-21T09:46:53.900912Z"
    }
   },
   "outputs": [
    {
     "name": "stdout",
     "output_type": "stream",
     "text": [
      "있다(266291) 되다(227684) 없다(198500) 아니다(179739) 보다(158555) 사람(137378) 같다(109397) 들다(105248) 않다(104030) 그렇다(99124) 가다(93559) 놈(93065) 국민(90584) 받다(88033) 말(86876) 먹다(80270) 돈(77413) 나라(76930) 좋다(72559) 왜(72217) 한(70275) 더(70250) 때(67161) 생각(66934) 시키다(65723) 뭐(64864) 이렇다(64203) 개(63970) 많다(61419) 좀(59965) 알다(57425) 우리(55295) 거(54994) 인간(53780) 한국(53405) 만들다(52883) 내(52726) 나오다(51075) 살다(50656) 모르다(49423) 일(49036) 주다(48805) 지다(48591) 기사(48204) 안되다(47479) 니(47393) 문제(47363) 차다(45889) 대통령(45612) 중국(44103) \n",
      "Total Vocab:  168620\n",
      "\n"
     ]
    }
   ],
   "source": [
    "keys, n_vocab = count_comment(token_data)"
   ]
  },
  {
   "cell_type": "code",
   "execution_count": 15,
   "metadata": {
    "ExecuteTime": {
     "end_time": "2020-03-21T09:47:21.530317Z",
     "start_time": "2020-03-21T09:47:20.886757Z"
    },
    "scrolled": true
   },
   "outputs": [
    {
     "data": {
      "text/plain": [
       "0    [이국, 종, 교수, 외과, 야전, 사령관, 분, 업무, 차질, 없다, 물, 심양,...\n",
       "1          [문재인, 대통령, 이국, 종, 교수, 귀순, 병사, 모두, 건강하다, 비다]\n",
       "2                    [단, 한번, 써다, 보지, 포인트, 절반, 통신비, 차감]\n",
       "3                        [우리나라, 통신, 업체, 차다, 쉬다, 돈, 벌다]\n",
       "4                                     [진짜, 쓸다, 너무, 적다]\n",
       "dtype: object"
      ]
     },
     "execution_count": 15,
     "metadata": {},
     "output_type": "execute_result"
    }
   ],
   "source": [
    "series_token_data = pd.Series(token_data)\n",
    "series_token_data[:5]"
   ]
  },
  {
   "cell_type": "code",
   "execution_count": 16,
   "metadata": {
    "ExecuteTime": {
     "end_time": "2020-03-21T09:47:30.142949Z",
     "start_time": "2020-03-21T09:47:29.886637Z"
    }
   },
   "outputs": [
    {
     "data": {
      "text/html": [
       "<div>\n",
       "<style scoped>\n",
       "    .dataframe tbody tr th:only-of-type {\n",
       "        vertical-align: middle;\n",
       "    }\n",
       "\n",
       "    .dataframe tbody tr th {\n",
       "        vertical-align: top;\n",
       "    }\n",
       "\n",
       "    .dataframe thead th {\n",
       "        text-align: right;\n",
       "    }\n",
       "</style>\n",
       "<table border=\"1\" class=\"dataframe\">\n",
       "  <thead>\n",
       "    <tr style=\"text-align: right;\">\n",
       "      <th></th>\n",
       "      <th>news_id</th>\n",
       "      <th>comment_id</th>\n",
       "      <th>comment</th>\n",
       "      <th>comment_token</th>\n",
       "    </tr>\n",
       "  </thead>\n",
       "  <tbody>\n",
       "    <tr>\n",
       "      <th>1780397</th>\n",
       "      <td>20170731044235632</td>\n",
       "      <td>6D6963D736FF40328D170B475A4F34F0</td>\n",
       "      <td>인천에 자유 뭐시기 소속 구청장이 좀 있는데 어디냐 서구냐 남구냐 연수구냐 남동구냐...</td>\n",
       "      <td>[인천, 자유, 뭐시기, 소속, 구청, 좀, 있다, 어디, 서구, 남구, 연수구, ...</td>\n",
       "    </tr>\n",
       "    <tr>\n",
       "      <th>1780398</th>\n",
       "      <td>20170731044235632</td>\n",
       "      <td>0FB426A0CFF2443D92E8D96402008692</td>\n",
       "      <td>맹바기닮은것보니 자유당일듯...</td>\n",
       "      <td>[맹바기, 닮다, 보다, 자유당]</td>\n",
       "    </tr>\n",
       "    <tr>\n",
       "      <th>1780399</th>\n",
       "      <td>20170731044235632</td>\n",
       "      <td>897F2E5AC2D843628B24244DF4FF77BB</td>\n",
       "      <td>멍박그네  정권 싸 똥치우는  문정부 개고생. 적폐청산 MB 방산 자원외교 4대강 ...</td>\n",
       "      <td>[멍박, 그네, 정권, 싸다, 똥, 치우다, 정부, 개, 고생, 적폐, 청산, 방산...</td>\n",
       "    </tr>\n",
       "    <tr>\n",
       "      <th>1780400</th>\n",
       "      <td>20170731044235632</td>\n",
       "      <td>80A31650BF054D2AAE92310374373DB9</td>\n",
       "      <td>이제 명박이좀 잊을때도 안됐나 그만하고 새출발하자 듣는것도 지겹다</td>\n",
       "      <td>[이제, 명박, 좀, 잊다, 때, 돼다, 그만하다, 출발, 하자, 듣다, 지겹다]</td>\n",
       "    </tr>\n",
       "    <tr>\n",
       "      <th>1780401</th>\n",
       "      <td>20170731044235632</td>\n",
       "      <td>B9643D95F2F045A9808C2CAA0B70F25B</td>\n",
       "      <td>C구청장을 당장 구속 수사하면 될듯~~~</td>\n",
       "      <td>[청장, 당장, 구속, 수사, 되다]</td>\n",
       "    </tr>\n",
       "  </tbody>\n",
       "</table>\n",
       "</div>"
      ],
      "text/plain": [
       "                   news_id                        comment_id  \\\n",
       "1780397  20170731044235632  6D6963D736FF40328D170B475A4F34F0   \n",
       "1780398  20170731044235632  0FB426A0CFF2443D92E8D96402008692   \n",
       "1780399  20170731044235632  897F2E5AC2D843628B24244DF4FF77BB   \n",
       "1780400  20170731044235632  80A31650BF054D2AAE92310374373DB9   \n",
       "1780401  20170731044235632  B9643D95F2F045A9808C2CAA0B70F25B   \n",
       "\n",
       "                                                   comment  \\\n",
       "1780397  인천에 자유 뭐시기 소속 구청장이 좀 있는데 어디냐 서구냐 남구냐 연수구냐 남동구냐...   \n",
       "1780398                                  맹바기닮은것보니 자유당일듯...   \n",
       "1780399  멍박그네  정권 싸 똥치우는  문정부 개고생. 적폐청산 MB 방산 자원외교 4대강 ...   \n",
       "1780400               이제 명박이좀 잊을때도 안됐나 그만하고 새출발하자 듣는것도 지겹다   \n",
       "1780401                             C구청장을 당장 구속 수사하면 될듯~~~   \n",
       "\n",
       "                                             comment_token  \n",
       "1780397  [인천, 자유, 뭐시기, 소속, 구청, 좀, 있다, 어디, 서구, 남구, 연수구, ...  \n",
       "1780398                                 [맹바기, 닮다, 보다, 자유당]  \n",
       "1780399  [멍박, 그네, 정권, 싸다, 똥, 치우다, 정부, 개, 고생, 적폐, 청산, 방산...  \n",
       "1780400      [이제, 명박, 좀, 잊다, 때, 돼다, 그만하다, 출발, 하자, 듣다, 지겹다]  \n",
       "1780401                               [청장, 당장, 구속, 수사, 되다]  "
      ]
     },
     "execution_count": 16,
     "metadata": {},
     "output_type": "execute_result"
    }
   ],
   "source": [
    "total_comments_df = total_comments_df.reset_index(drop=True)\n",
    "total_comments_df['comment_token'] = series_token_data\n",
    "total_comments_df.tail()"
   ]
  },
  {
   "cell_type": "code",
   "execution_count": 17,
   "metadata": {
    "ExecuteTime": {
     "end_time": "2020-03-21T09:47:55.238877Z",
     "start_time": "2020-03-21T09:47:38.472679Z"
    }
   },
   "outputs": [],
   "source": [
    "total_comments_df.to_pickle(\"dataset/total_raw_token/0710 comments_with_okt-tokenized.pkl\")"
   ]
  },
  {
   "cell_type": "code",
   "execution_count": 18,
   "metadata": {
    "ExecuteTime": {
     "end_time": "2020-03-31T07:26:57.919944Z",
     "start_time": "2020-03-31T07:26:32.731621Z"
    }
   },
   "outputs": [],
   "source": [
    "token_data = pd.read_pickle(\"dataset/total_raw_token/0710 comments_with_okt-tokenized.pkl\")"
   ]
  },
  {
   "cell_type": "code",
   "execution_count": 19,
   "metadata": {
    "ExecuteTime": {
     "end_time": "2020-03-31T07:26:57.983775Z",
     "start_time": "2020-03-31T07:26:57.973801Z"
    }
   },
   "outputs": [
    {
     "data": {
      "text/html": [
       "<div>\n",
       "<style scoped>\n",
       "    .dataframe tbody tr th:only-of-type {\n",
       "        vertical-align: middle;\n",
       "    }\n",
       "\n",
       "    .dataframe tbody tr th {\n",
       "        vertical-align: top;\n",
       "    }\n",
       "\n",
       "    .dataframe thead th {\n",
       "        text-align: right;\n",
       "    }\n",
       "</style>\n",
       "<table border=\"1\" class=\"dataframe\">\n",
       "  <thead>\n",
       "    <tr style=\"text-align: right;\">\n",
       "      <th></th>\n",
       "      <th>news_id</th>\n",
       "      <th>comment_id</th>\n",
       "      <th>comment</th>\n",
       "      <th>comment_token</th>\n",
       "    </tr>\n",
       "  </thead>\n",
       "  <tbody>\n",
       "    <tr>\n",
       "      <th>0</th>\n",
       "      <td>20171201145847479</td>\n",
       "      <td>F3C2DFCFE9E947B19C8A3053DD5C821B</td>\n",
       "      <td>이국종교수는  외과 야전사령관 이다.  그분의 업무에 차질 없도록 물심양면 으로  ...</td>\n",
       "      <td>[이국, 종, 교수, 외과, 야전, 사령관, 분, 업무, 차질, 없다, 물, 심양,...</td>\n",
       "    </tr>\n",
       "    <tr>\n",
       "      <th>1</th>\n",
       "      <td>20171201145847479</td>\n",
       "      <td>61A3B6AAD6124DFFB70EC4275496F8A6</td>\n",
       "      <td>문재인 대통령님과 이국종 교수님, 그리고 귀순병사 모두 건강하시길 빕니다.</td>\n",
       "      <td>[문재인, 대통령, 이국, 종, 교수, 귀순, 병사, 모두, 건강하다, 비다]</td>\n",
       "    </tr>\n",
       "    <tr>\n",
       "      <th>2</th>\n",
       "      <td>20171201060244786</td>\n",
       "      <td>B6660EF2C7C14A2F903A08363641CF09</td>\n",
       "      <td>단 한번도 써보지 못했다ㆍ 포인트의 절반만이라도 통신비로 차감을!</td>\n",
       "      <td>[단, 한번, 써다, 보지, 포인트, 절반, 통신비, 차감]</td>\n",
       "    </tr>\n",
       "    <tr>\n",
       "      <th>3</th>\n",
       "      <td>20171201060244786</td>\n",
       "      <td>C4F129BFB1FD4543A24A03D96F38351D</td>\n",
       "      <td>우리나라 통신업체들  참 쉽게  돈 벌어요</td>\n",
       "      <td>[우리나라, 통신, 업체, 차다, 쉬다, 돈, 벌다]</td>\n",
       "    </tr>\n",
       "    <tr>\n",
       "      <th>4</th>\n",
       "      <td>20171201060244786</td>\n",
       "      <td>1A21FDDF151E45DF808F0E5B662E8F3C</td>\n",
       "      <td>진짜 쓸데가너무적다.</td>\n",
       "      <td>[진짜, 쓸다, 너무, 적다]</td>\n",
       "    </tr>\n",
       "  </tbody>\n",
       "</table>\n",
       "</div>"
      ],
      "text/plain": [
       "             news_id                        comment_id  \\\n",
       "0  20171201145847479  F3C2DFCFE9E947B19C8A3053DD5C821B   \n",
       "1  20171201145847479  61A3B6AAD6124DFFB70EC4275496F8A6   \n",
       "2  20171201060244786  B6660EF2C7C14A2F903A08363641CF09   \n",
       "3  20171201060244786  C4F129BFB1FD4543A24A03D96F38351D   \n",
       "4  20171201060244786  1A21FDDF151E45DF808F0E5B662E8F3C   \n",
       "\n",
       "                                             comment  \\\n",
       "0  이국종교수는  외과 야전사령관 이다.  그분의 업무에 차질 없도록 물심양면 으로  ...   \n",
       "1          문재인 대통령님과 이국종 교수님, 그리고 귀순병사 모두 건강하시길 빕니다.   \n",
       "2               단 한번도 써보지 못했다ㆍ 포인트의 절반만이라도 통신비로 차감을!   \n",
       "3                            우리나라 통신업체들  참 쉽게  돈 벌어요   \n",
       "4                                        진짜 쓸데가너무적다.   \n",
       "\n",
       "                                       comment_token  \n",
       "0  [이국, 종, 교수, 외과, 야전, 사령관, 분, 업무, 차질, 없다, 물, 심양,...  \n",
       "1        [문재인, 대통령, 이국, 종, 교수, 귀순, 병사, 모두, 건강하다, 비다]  \n",
       "2                  [단, 한번, 써다, 보지, 포인트, 절반, 통신비, 차감]  \n",
       "3                      [우리나라, 통신, 업체, 차다, 쉬다, 돈, 벌다]  \n",
       "4                                   [진짜, 쓸다, 너무, 적다]  "
      ]
     },
     "execution_count": 19,
     "metadata": {},
     "output_type": "execute_result"
    }
   ],
   "source": [
    "token_data.head()"
   ]
  },
  {
   "cell_type": "code",
   "execution_count": 20,
   "metadata": {
    "ExecuteTime": {
     "end_time": "2020-03-27T09:31:14.461217Z",
     "start_time": "2020-03-27T09:31:14.443266Z"
    }
   },
   "outputs": [
    {
     "data": {
      "text/plain": [
       "0    [이국, 종, 교수, 외과, 야전, 사령관, 분, 업무, 차질, 없다, 물, 심양,...\n",
       "1          [문재인, 대통령, 이국, 종, 교수, 귀순, 병사, 모두, 건강하다, 비다]\n",
       "2                    [단, 한번, 써다, 보지, 포인트, 절반, 통신비, 차감]\n",
       "3                        [우리나라, 통신, 업체, 차다, 쉬다, 돈, 벌다]\n",
       "4                                     [진짜, 쓸다, 너무, 적다]\n",
       "Name: comment_token, dtype: object"
      ]
     },
     "execution_count": 20,
     "metadata": {},
     "output_type": "execute_result"
    }
   ],
   "source": [
    "tokens = token_data['comment_token']\n",
    "tokens[:5]"
   ]
  },
  {
   "cell_type": "markdown",
   "metadata": {},
   "source": [
    "# Word Embedding \n",
    "\n",
    "두 모델 학습해서 이후 결과 비교해볼 것 \n",
    " - tokenized_comments\n",
    "     - word2vec\n",
    "     - fastText\n",
    " - 자모 단위 분해 + fastText\n",
    " \n",
    "**Reference**    \n",
    "- [Finding best fasttext hyperparameters](http://soner.in/fasttext-grid-search/)\n",
    "- [한국어 단어 임베딩을 위한 Word2vec 모델의 최적화](http://journal.dcs.or.kr/xml/19540/19540.pdf)\n",
    "- [FastText, Word representation using subword](https://lovit.github.io/nlp/representation/2018/10/22/fasttext_subword/)"
   ]
  },
  {
   "cell_type": "code",
   "execution_count": 21,
   "metadata": {
    "ExecuteTime": {
     "end_time": "2020-03-27T09:31:17.879078Z",
     "start_time": "2020-03-27T09:31:14.509090Z"
    },
    "scrolled": true
   },
   "outputs": [],
   "source": [
    "import codecs\n",
    "from gensim.models import word2vec\n",
    "from gensim.models import fasttext"
   ]
  },
  {
   "cell_type": "markdown",
   "metadata": {},
   "source": [
    "## word2vec"
   ]
  },
  {
   "cell_type": "code",
   "execution_count": 22,
   "metadata": {
    "ExecuteTime": {
     "end_time": "2020-03-27T09:31:41.167614Z",
     "start_time": "2020-03-27T09:31:41.162626Z"
    }
   },
   "outputs": [],
   "source": [
    "import multiprocessing\n",
    "config = {\n",
    "    'min_count': 1,  # 등장 횟수가 1 이하인 단어는 무시\n",
    "    'size': 300,  # 300차원짜리 벡터스페이스에 embedding\n",
    "    'sg': 1,  # 0이면 CBOW, 1이면 skip-gram을 사용한다\n",
    "    'batch_words': 10000,  # 사전을 구축할때 한번에 읽을 단어 수\n",
    "    'iter': 20,  # 보통 딥러닝에서 말하는 epoch과 비슷한, 반복 횟수\n",
    "    'workers': multiprocessing.cpu_count(),\n",
    "    'window': 5,\n",
    "    'seed': 25 #random number,\n",
    "}"
   ]
  },
  {
   "cell_type": "code",
   "execution_count": 23,
   "metadata": {
    "ExecuteTime": {
     "end_time": "2020-03-26T11:29:16.625510Z",
     "start_time": "2020-03-26T09:40:20.912082Z"
    }
   },
   "outputs": [],
   "source": [
    "# 모델 학습\n",
    "model_w2v = word2vec.Word2Vec(tokens,**config)"
   ]
  },
  {
   "cell_type": "code",
   "execution_count": 25,
   "metadata": {
    "ExecuteTime": {
     "end_time": "2020-03-27T08:21:59.166963Z",
     "start_time": "2020-03-27T08:21:55.547613Z"
    }
   },
   "outputs": [],
   "source": [
    "#모델 저장\n",
    "model_w2v.save(os.path.join(\"dataset/model/0710 w2v_model\"))"
   ]
  },
  {
   "cell_type": "code",
   "execution_count": 26,
   "metadata": {
    "ExecuteTime": {
     "end_time": "2020-03-27T08:23:03.681360Z",
     "start_time": "2020-03-27T08:23:02.931363Z"
    }
   },
   "outputs": [],
   "source": [
    "# 모델 불러오기\n",
    "w2v_model = word2vec.Word2Vec.load(\"dataset/model/0710 w2v_model\")"
   ]
  },
  {
   "cell_type": "markdown",
   "metadata": {},
   "source": [
    "### analogy test"
   ]
  },
  {
   "cell_type": "code",
   "execution_count": 16,
   "metadata": {
    "ExecuteTime": {
     "end_time": "2020-03-27T08:23:20.547237Z",
     "start_time": "2020-03-27T08:23:20.131349Z"
    }
   },
   "outputs": [
    {
     "data": {
      "text/plain": [
       "[('짱깨', 0.7469527721405029),\n",
       " ('짱개', 0.7402806878089905),\n",
       " ('중공', 0.7356770038604736),\n",
       " ('짱꼴라', 0.6442628502845764),\n",
       " ('러시아', 0.6201988458633423),\n",
       " ('중국인', 0.6164897084236145),\n",
       " ('중궈', 0.5840282440185547),\n",
       " ('시진핑', 0.5833264589309692),\n",
       " ('일본', 0.560553789138794),\n",
       " ('미국', 0.5600796937942505)]"
      ]
     },
     "execution_count": 16,
     "metadata": {},
     "output_type": "execute_result"
    }
   ],
   "source": [
    "w2v_model.wv.most_similar(positive = \"중국\")"
   ]
  },
  {
   "cell_type": "code",
   "execution_count": 17,
   "metadata": {
    "ExecuteTime": {
     "end_time": "2020-03-27T08:23:24.636304Z",
     "start_time": "2020-03-27T08:23:24.619371Z"
    }
   },
   "outputs": [
    {
     "data": {
      "text/plain": [
       "[('쪽바리', 0.637258768081665),\n",
       " ('일본도', 0.6027649641036987),\n",
       " ('롯게', 0.5917129516601562),\n",
       " ('좃선님', 0.5848301649093628),\n",
       " ('일본인', 0.5770894289016724),\n",
       " ('쪽발이', 0.5697472095489502),\n",
       " ('중국', 0.560553789138794),\n",
       " ('왜놈', 0.5594272613525391),\n",
       " ('넘듬', 0.5572184324264526),\n",
       " ('짓맓고', 0.5498552918434143)]"
      ]
     },
     "execution_count": 17,
     "metadata": {},
     "output_type": "execute_result"
    }
   ],
   "source": [
    "w2v_model.wv.most_similar(positive = \"일본\")"
   ]
  },
  {
   "cell_type": "code",
   "execution_count": 18,
   "metadata": {
    "ExecuteTime": {
     "end_time": "2020-03-27T08:23:27.532558Z",
     "start_time": "2020-03-27T08:23:27.515605Z"
    }
   },
   "outputs": [
    {
     "data": {
      "text/plain": [
       "[('대통', 0.7586009502410889),\n",
       " ('문재인', 0.6966331005096436),\n",
       " ('통령', 0.6032859086990356),\n",
       " ('영부인', 0.6013497710227966),\n",
       " ('총리', 0.5542508363723755),\n",
       " ('망녕났군', 0.5260519981384277),\n",
       " ('박성욱', 0.5248264670372009),\n",
       " ('김정숙', 0.5233049392700195),\n",
       " ('땔래야땔수없', 0.5201804041862488),\n",
       " ('부럽쥬', 0.5174517631530762)]"
      ]
     },
     "execution_count": 18,
     "metadata": {},
     "output_type": "execute_result"
    }
   ],
   "source": [
    "w2v_model.wv.most_similar(positive = \"대통령\")"
   ]
  },
  {
   "cell_type": "markdown",
   "metadata": {},
   "source": [
    "## fastText 모델 학습 및 불러오기\n",
    "\n",
    "- 학습 데이터와 파라미터 동일하게 해서 이후에 word2vec과 결과 비교\n",
    "- 자모 단위 모델 추가"
   ]
  },
  {
   "cell_type": "code",
   "execution_count": 12,
   "metadata": {
    "ExecuteTime": {
     "end_time": "2020-03-27T09:31:44.349106Z",
     "start_time": "2020-03-27T09:31:44.344120Z"
    }
   },
   "outputs": [
    {
     "name": "stdout",
     "output_type": "stream",
     "text": [
      "['이국', '종', '교수', '외과', '야전', '사령관', '분', '업무', '차질', '없다', '물', '심양', '도', '주기', '분', '역활']\n",
      "2393070\n"
     ]
    }
   ],
   "source": [
    "print(tokens[0])\n",
    "print(len(tokens))"
   ]
  },
  {
   "cell_type": "code",
   "execution_count": 14,
   "metadata": {
    "ExecuteTime": {
     "end_time": "2020-03-27T09:31:53.861671Z",
     "start_time": "2020-03-27T09:31:53.856685Z"
    }
   },
   "outputs": [],
   "source": [
    "ft_config = {\n",
    "    'min_count': 1,  # 등장 횟수가 1 이하인 단어는 무시\n",
    "    'size': 300,  # 300차원짜리 벡터스페이스에 embedding\n",
    "    'sg': 1,  # 0이면 CBOW, 1이면 skip-gram을 사용한다\n",
    "    'batch_words': 10000,  # 사전을 구축할때 한번에 읽을 단어 수\n",
    "    'iter': 100,  # 보통 딥러닝에서 말하는 epoch과 비슷한, 반복 횟수\n",
    "    'workers': multiprocessing.cpu_count(),\n",
    "    'window': 5,\n",
    "    'seed': 25, #random number,\n",
    "    'word_ngrams':1 # uses enriches word vectors with subword(n-grams) information. If 0, this is equivalent to Word2Vec.\n",
    "}"
   ]
  },
  {
   "cell_type": "code",
   "execution_count": 15,
   "metadata": {
    "ExecuteTime": {
     "end_time": "2020-03-27T11:32:42.145809Z",
     "start_time": "2020-03-27T09:31:54.411203Z"
    }
   },
   "outputs": [],
   "source": [
    "# 모델 학습\n",
    "fastText_model = fasttext.FastText(sentences=tokens, **ft_config)  "
   ]
  },
  {
   "cell_type": "code",
   "execution_count": 20,
   "metadata": {
    "ExecuteTime": {
     "end_time": "2020-03-29T16:49:50.731138Z",
     "start_time": "2020-03-29T16:49:50.715181Z"
    }
   },
   "outputs": [
    {
     "data": {
      "text/plain": [
       "[('짱개', 0.7340356707572937),\n",
       " ('짱깨', 0.7271621227264404),\n",
       " ('중공', 0.7174848318099976),\n",
       " ('러시아', 0.6323301792144775),\n",
       " ('짱꼴라', 0.6283606290817261),\n",
       " ('중국인', 0.6042678356170654),\n",
       " ('중궈', 0.5787336826324463),\n",
       " ('시진핑', 0.575260579586029),\n",
       " ('일본', 0.5739111304283142),\n",
       " ('중국스립', 0.5734913349151611)]"
      ]
     },
     "execution_count": 20,
     "metadata": {},
     "output_type": "execute_result"
    }
   ],
   "source": [
    "# 연관성 테스트\n",
    "fastText_model.wv.most_similar(\"중국\")"
   ]
  },
  {
   "cell_type": "code",
   "execution_count": 16,
   "metadata": {
    "ExecuteTime": {
     "end_time": "2020-03-29T16:49:17.391202Z",
     "start_time": "2020-03-29T16:49:02.837789Z"
    }
   },
   "outputs": [],
   "source": [
    "# 모델 저장\n",
    "fastText_model.save('dataset/embedding/fastText_0330.model')"
   ]
  },
  {
   "cell_type": "code",
   "execution_count": 48,
   "metadata": {
    "ExecuteTime": {
     "end_time": "2020-03-29T17:07:03.468914Z",
     "start_time": "2020-03-29T17:06:30.766177Z"
    }
   },
   "outputs": [],
   "source": [
    "# 모델 불러오기\n",
    "fastText_model = fasttext.FastText.load('dataset/embedding/fastText_0330.model')"
   ]
  },
  {
   "cell_type": "markdown",
   "metadata": {},
   "source": [
    "# fastText - 자모 임베딩 \n",
    "\n",
    "<br> <b>Reference\n",
    "- https://lovit.github.io/nlp/representation/2018/10/22/fasttext_subword/"
   ]
  },
  {
   "cell_type": "code",
   "execution_count": 15,
   "metadata": {
    "ExecuteTime": {
     "end_time": "2020-04-01T10:54:44.737504Z",
     "start_time": "2020-04-01T10:54:44.400430Z"
    }
   },
   "outputs": [
    {
     "name": "stdout",
     "output_type": "stream",
     "text": [
      "test_comment:  이국종교수는  외과 야전사령관 이다.  그분의 업무에 차질 없도록 물심양면 으로  도와 주기만 하면 그분의 역활을 다할것이다.\n"
     ]
    },
    {
     "data": {
      "text/plain": [
       "'ㅇㅣ-ㄱㅜㄱㅈㅗㅇㄱㅛ-ㅅㅜ-ㄴㅡㄴ ㅇㅚ-ㄱㅘ- ㅇㅑ-ㅈㅓㄴㅅㅏ-ㄹㅕㅇㄱㅘㄴ ㅇㅣ-ㄷㅏ-. ㄱㅡ-ㅂㅜㄴㅇㅢ- ㅇㅓㅂㅁㅜ-ㅇㅔ- ㅊㅏ-ㅈㅣㄹ ㅇㅓㅄㄷㅗ-ㄹㅗㄱ ㅁㅜㄹㅅㅣㅁㅇㅑㅇㅁㅕㄴ ㅇㅡ-ㄹㅗ- ㄷㅗ-ㅇㅘ- ㅈㅜ-ㄱㅣ-ㅁㅏㄴ ㅎㅏ-ㅁㅕㄴ ㄱㅡ-ㅂㅜㄴㅇㅢ- ㅇㅕㄱㅎㅘㄹㅇㅡㄹ ㄷㅏ-ㅎㅏㄹㄱㅓㅅㅇㅣ-ㄷㅏ-.'"
      ]
     },
     "execution_count": 15,
     "metadata": {},
     "output_type": "execute_result"
    }
   ],
   "source": [
    "# 자모 단위 학습\n",
    "from soynlp.hangle import decompose\n",
    "import re\n",
    "\n",
    "doublespace_pattern = re.compile('\\s+')\n",
    "\n",
    "# 문장을 자모 단위로 분해\n",
    "def jamo_sentence(sent):\n",
    "\n",
    "    def transform(char):\n",
    "        try:\n",
    "            if char == ' ':\n",
    "                return char\n",
    "            cjj = decompose(char)\n",
    "            if len(cjj) == 1:\n",
    "                return cjj\n",
    "            cjj_ = ''.join(c if c != ' ' else '-' for c in cjj)\n",
    "            return cjj_\n",
    "        \n",
    "        except Exception as e: # 마침표, 물음표 반환\n",
    "            #print(\"error char: {0}   error: {1}\".format(char, e))\n",
    "            return char\n",
    "\n",
    "    sent_ = ''.join(transform(char) for char in sent)\n",
    "    sent_ = doublespace_pattern.sub(' ', sent_)\n",
    "    return sent_\n",
    "\n",
    "test_comment = token_data[\"comment\"][0]\n",
    "print(\"test_comment: \", test_comment)\n",
    "jamo_sentence(test_comment)"
   ]
  },
  {
   "cell_type": "code",
   "execution_count": 16,
   "metadata": {
    "ExecuteTime": {
     "end_time": "2020-04-01T10:58:30.223911Z",
     "start_time": "2020-04-01T10:54:51.598932Z"
    }
   },
   "outputs": [
    {
     "data": {
      "text/html": [
       "<div>\n",
       "<style scoped>\n",
       "    .dataframe tbody tr th:only-of-type {\n",
       "        vertical-align: middle;\n",
       "    }\n",
       "\n",
       "    .dataframe tbody tr th {\n",
       "        vertical-align: top;\n",
       "    }\n",
       "\n",
       "    .dataframe thead th {\n",
       "        text-align: right;\n",
       "    }\n",
       "</style>\n",
       "<table border=\"1\" class=\"dataframe\">\n",
       "  <thead>\n",
       "    <tr style=\"text-align: right;\">\n",
       "      <th></th>\n",
       "      <th>news_id</th>\n",
       "      <th>comment_id</th>\n",
       "      <th>comment</th>\n",
       "      <th>comment_token</th>\n",
       "      <th>comment_jamo</th>\n",
       "    </tr>\n",
       "  </thead>\n",
       "  <tbody>\n",
       "    <tr>\n",
       "      <th>0</th>\n",
       "      <td>20171201145847479</td>\n",
       "      <td>F3C2DFCFE9E947B19C8A3053DD5C821B</td>\n",
       "      <td>이국종교수는  외과 야전사령관 이다.  그분의 업무에 차질 없도록 물심양면 으로  ...</td>\n",
       "      <td>[이국, 종, 교수, 외과, 야전, 사령관, 분, 업무, 차질, 없다, 물, 심양,...</td>\n",
       "      <td>ㅇㅣ-ㄱㅜㄱㅈㅗㅇㄱㅛ-ㅅㅜ-ㄴㅡㄴ ㅇㅚ-ㄱㅘ- ㅇㅑ-ㅈㅓㄴㅅㅏ-ㄹㅕㅇㄱㅘㄴ ㅇㅣ-ㄷ...</td>\n",
       "    </tr>\n",
       "    <tr>\n",
       "      <th>1</th>\n",
       "      <td>20171201145847479</td>\n",
       "      <td>61A3B6AAD6124DFFB70EC4275496F8A6</td>\n",
       "      <td>문재인 대통령님과 이국종 교수님, 그리고 귀순병사 모두 건강하시길 빕니다.</td>\n",
       "      <td>[문재인, 대통령, 이국, 종, 교수, 귀순, 병사, 모두, 건강하다, 비다]</td>\n",
       "      <td>ㅁㅜㄴㅈㅐ-ㅇㅣㄴ ㄷㅐ-ㅌㅗㅇㄹㅕㅇㄴㅣㅁㄱㅘ- ㅇㅣ-ㄱㅜㄱㅈㅗㅇ ㄱㅛ-ㅅㅜ-ㄴㅣㅁ,...</td>\n",
       "    </tr>\n",
       "    <tr>\n",
       "      <th>2</th>\n",
       "      <td>20171201060244786</td>\n",
       "      <td>B6660EF2C7C14A2F903A08363641CF09</td>\n",
       "      <td>단 한번도 써보지 못했다ㆍ 포인트의 절반만이라도 통신비로 차감을!</td>\n",
       "      <td>[단, 한번, 써다, 보지, 포인트, 절반, 통신비, 차감]</td>\n",
       "      <td>ㄷㅏㄴ ㅎㅏㄴㅂㅓㄴㄷㅗ- ㅆㅓ-ㅂㅗ-ㅈㅣ- ㅁㅗㅅㅎㅐㅆㄷㅏ-ㆍ ㅍㅗ-ㅇㅣㄴㅌㅡ-ㅇㅢ...</td>\n",
       "    </tr>\n",
       "    <tr>\n",
       "      <th>3</th>\n",
       "      <td>20171201060244786</td>\n",
       "      <td>C4F129BFB1FD4543A24A03D96F38351D</td>\n",
       "      <td>우리나라 통신업체들  참 쉽게  돈 벌어요</td>\n",
       "      <td>[우리나라, 통신, 업체, 차다, 쉬다, 돈, 벌다]</td>\n",
       "      <td>ㅇㅜ-ㄹㅣ-ㄴㅏ-ㄹㅏ- ㅌㅗㅇㅅㅣㄴㅇㅓㅂㅊㅔ-ㄷㅡㄹ ㅊㅏㅁ ㅅㅟㅂㄱㅔ- ㄷㅗㄴ ㅂㅓ...</td>\n",
       "    </tr>\n",
       "    <tr>\n",
       "      <th>4</th>\n",
       "      <td>20171201060244786</td>\n",
       "      <td>1A21FDDF151E45DF808F0E5B662E8F3C</td>\n",
       "      <td>진짜 쓸데가너무적다.</td>\n",
       "      <td>[진짜, 쓸다, 너무, 적다]</td>\n",
       "      <td>ㅈㅣㄴㅉㅏ- ㅆㅡㄹㄷㅔ-ㄱㅏ-ㄴㅓ-ㅁㅜ-ㅈㅓㄱㄷㅏ-.</td>\n",
       "    </tr>\n",
       "  </tbody>\n",
       "</table>\n",
       "</div>"
      ],
      "text/plain": [
       "             news_id                        comment_id  \\\n",
       "0  20171201145847479  F3C2DFCFE9E947B19C8A3053DD5C821B   \n",
       "1  20171201145847479  61A3B6AAD6124DFFB70EC4275496F8A6   \n",
       "2  20171201060244786  B6660EF2C7C14A2F903A08363641CF09   \n",
       "3  20171201060244786  C4F129BFB1FD4543A24A03D96F38351D   \n",
       "4  20171201060244786  1A21FDDF151E45DF808F0E5B662E8F3C   \n",
       "\n",
       "                                             comment  \\\n",
       "0  이국종교수는  외과 야전사령관 이다.  그분의 업무에 차질 없도록 물심양면 으로  ...   \n",
       "1          문재인 대통령님과 이국종 교수님, 그리고 귀순병사 모두 건강하시길 빕니다.   \n",
       "2               단 한번도 써보지 못했다ㆍ 포인트의 절반만이라도 통신비로 차감을!   \n",
       "3                            우리나라 통신업체들  참 쉽게  돈 벌어요   \n",
       "4                                        진짜 쓸데가너무적다.   \n",
       "\n",
       "                                       comment_token  \\\n",
       "0  [이국, 종, 교수, 외과, 야전, 사령관, 분, 업무, 차질, 없다, 물, 심양,...   \n",
       "1        [문재인, 대통령, 이국, 종, 교수, 귀순, 병사, 모두, 건강하다, 비다]   \n",
       "2                  [단, 한번, 써다, 보지, 포인트, 절반, 통신비, 차감]   \n",
       "3                      [우리나라, 통신, 업체, 차다, 쉬다, 돈, 벌다]   \n",
       "4                                   [진짜, 쓸다, 너무, 적다]   \n",
       "\n",
       "                                        comment_jamo  \n",
       "0  ㅇㅣ-ㄱㅜㄱㅈㅗㅇㄱㅛ-ㅅㅜ-ㄴㅡㄴ ㅇㅚ-ㄱㅘ- ㅇㅑ-ㅈㅓㄴㅅㅏ-ㄹㅕㅇㄱㅘㄴ ㅇㅣ-ㄷ...  \n",
       "1  ㅁㅜㄴㅈㅐ-ㅇㅣㄴ ㄷㅐ-ㅌㅗㅇㄹㅕㅇㄴㅣㅁㄱㅘ- ㅇㅣ-ㄱㅜㄱㅈㅗㅇ ㄱㅛ-ㅅㅜ-ㄴㅣㅁ,...  \n",
       "2  ㄷㅏㄴ ㅎㅏㄴㅂㅓㄴㄷㅗ- ㅆㅓ-ㅂㅗ-ㅈㅣ- ㅁㅗㅅㅎㅐㅆㄷㅏ-ㆍ ㅍㅗ-ㅇㅣㄴㅌㅡ-ㅇㅢ...  \n",
       "3  ㅇㅜ-ㄹㅣ-ㄴㅏ-ㄹㅏ- ㅌㅗㅇㅅㅣㄴㅇㅓㅂㅊㅔ-ㄷㅡㄹ ㅊㅏㅁ ㅅㅟㅂㄱㅔ- ㄷㅗㄴ ㅂㅓ...  \n",
       "4                      ㅈㅣㄴㅉㅏ- ㅆㅡㄹㄷㅔ-ㄱㅏ-ㄴㅓ-ㅁㅜ-ㅈㅓㄱㄷㅏ-.  "
      ]
     },
     "execution_count": 16,
     "metadata": {},
     "output_type": "execute_result"
    }
   ],
   "source": [
    "token_data[\"comment_jamo\"] = token_data[\"comment\"].apply(jamo_sentence)\n",
    "token_data.head(5)"
   ]
  },
  {
   "cell_type": "code",
   "execution_count": 17,
   "metadata": {
    "ExecuteTime": {
     "end_time": "2020-04-01T10:58:30.281757Z",
     "start_time": "2020-04-01T10:58:30.275772Z"
    },
    "scrolled": true
   },
   "outputs": [
    {
     "data": {
      "text/plain": [
       "0    ㅇㅣ-ㄱㅜㄱㅈㅗㅇㄱㅛ-ㅅㅜ-ㄴㅡㄴ ㅇㅚ-ㄱㅘ- ㅇㅑ-ㅈㅓㄴㅅㅏ-ㄹㅕㅇㄱㅘㄴ ㅇㅣ-ㄷ...\n",
       "1    ㅁㅜㄴㅈㅐ-ㅇㅣㄴ ㄷㅐ-ㅌㅗㅇㄹㅕㅇㄴㅣㅁㄱㅘ- ㅇㅣ-ㄱㅜㄱㅈㅗㅇ ㄱㅛ-ㅅㅜ-ㄴㅣㅁ,...\n",
       "2    ㄷㅏㄴ ㅎㅏㄴㅂㅓㄴㄷㅗ- ㅆㅓ-ㅂㅗ-ㅈㅣ- ㅁㅗㅅㅎㅐㅆㄷㅏ-ㆍ ㅍㅗ-ㅇㅣㄴㅌㅡ-ㅇㅢ...\n",
       "3    ㅇㅜ-ㄹㅣ-ㄴㅏ-ㄹㅏ- ㅌㅗㅇㅅㅣㄴㅇㅓㅂㅊㅔ-ㄷㅡㄹ ㅊㅏㅁ ㅅㅟㅂㄱㅔ- ㄷㅗㄴ ㅂㅓ...\n",
       "4                        ㅈㅣㄴㅉㅏ- ㅆㅡㄹㄷㅔ-ㄱㅏ-ㄴㅓ-ㅁㅜ-ㅈㅓㄱㄷㅏ-.\n",
       "Name: comment_jamo, dtype: object"
      ]
     },
     "execution_count": 17,
     "metadata": {},
     "output_type": "execute_result"
    }
   ],
   "source": [
    "jamo_data = token_data[\"comment_jamo\"]\n",
    "jamo_data[:5]"
   ]
  },
  {
   "cell_type": "code",
   "execution_count": 19,
   "metadata": {
    "ExecuteTime": {
     "end_time": "2020-04-01T20:30:46.235193Z",
     "start_time": "2020-04-01T10:58:30.383484Z"
    },
    "scrolled": true
   },
   "outputs": [],
   "source": [
    "# 모델 학습\n",
    "fastText_model = fasttext.FastText(sentences=jamo_data, **ft_config)  "
   ]
  },
  {
   "cell_type": "code",
   "execution_count": 23,
   "metadata": {
    "ExecuteTime": {
     "end_time": "2020-04-02T04:23:18.354995Z",
     "start_time": "2020-04-02T04:23:18.349014Z"
    }
   },
   "outputs": [
    {
     "data": {
      "text/plain": [
       "[('*', 0.17194263637065887),\n",
       " ('o', 0.1222517192363739),\n",
       " ('◀', 0.1213143840432167),\n",
       " ('l', 0.09772109240293503),\n",
       " ('】', 0.09191815555095673),\n",
       " ('H', 0.08432599157094955),\n",
       " ('秦', 0.08144447952508926),\n",
       " ('♨', 0.08074280619621277),\n",
       " ('a', 0.080184206366539),\n",
       " ('§', 0.07871407270431519)]"
      ]
     },
     "execution_count": 23,
     "metadata": {},
     "output_type": "execute_result"
    }
   ],
   "source": [
    "# 연관성 테스트\n",
    "fastText_model.wv.most_similar(jamo_sentence(\"중국\"))"
   ]
  },
  {
   "cell_type": "code",
   "execution_count": 24,
   "metadata": {
    "ExecuteTime": {
     "end_time": "2020-04-02T04:24:42.437884Z",
     "start_time": "2020-04-02T04:23:48.930681Z"
    }
   },
   "outputs": [],
   "source": [
    "# 모델 저장\n",
    "fastText_model.save(token_data_PATH + \"fastText_jamo.model\")"
   ]
  },
  {
   "cell_type": "code",
   "execution_count": null,
   "metadata": {},
   "outputs": [],
   "source": [
    "model = fasttext.train_unsupervised(\"train.txt\", model='skipgram', lr=0.05, dim=100, ws=5, epoch=5)\n",
    "model.save_model(\"model_file.bin\")"
   ]
  },
  {
   "cell_type": "code",
   "execution_count": 49,
   "metadata": {},
   "outputs": [
    {
     "data": {
      "text/plain": [
       "0          ㅇㅣ-ㄱㅜㄱㅈㅗㅇㄱㅛ-ㅅㅜ-ㄴㅡㄴ ㅇㅚ-ㄱㅘ- ㅇㅑ-ㅈㅓㄴㅅㅏ-ㄹㅕㅇㄱㅘㄴ ㅇㅣ-ㄷ...\n",
       "1          ㅁㅜㄴㅈㅐ-ㅇㅣㄴ ㄷㅐ-ㅌㅗㅇㄹㅕㅇㄴㅣㅁㄱㅘ- ㅇㅣ-ㄱㅜㄱㅈㅗㅇ ㄱㅛ-ㅅㅜ-ㄴㅣㅁ,...\n",
       "2          ㄷㅏㄴ ㅎㅏㄴㅂㅓㄴㄷㅗ- ㅆㅓ-ㅂㅗ-ㅈㅣ- ㅁㅗㅅㅎㅐㅆㄷㅏ-ㆍ ㅍㅗ-ㅇㅣㄴㅌㅡ-ㅇㅢ...\n",
       "3          ㅇㅜ-ㄹㅣ-ㄴㅏ-ㄹㅏ- ㅌㅗㅇㅅㅣㄴㅇㅓㅂㅊㅔ-ㄷㅡㄹ ㅊㅏㅁ ㅅㅟㅂㄱㅔ- ㄷㅗㄴ ㅂㅓ...\n",
       "4                              ㅈㅣㄴㅉㅏ- ㅆㅡㄹㄷㅔ-ㄱㅏ-ㄴㅓ-ㅁㅜ-ㅈㅓㄱㄷㅏ-.\n",
       "                                 ...                        \n",
       "2393065    ㅇㅣㄴㅊㅓㄴㅇㅔ- ㅈㅏ-ㅇㅠ- ㅁㅝ-ㅅㅣ-ㄱㅣ- ㅅㅗ-ㅅㅗㄱ ㄱㅜ-ㅊㅓㅇㅈㅏㅇㅇㅣ-...\n",
       "2393066          ㅁㅐㅇㅂㅏ-ㄱㅣ-ㄷㅏㄻㅇㅡㄴㄱㅓㅅㅂㅗ-ㄴㅣ- ㅈㅏ-ㅇㅠ-ㄷㅏㅇㅇㅣㄹㄷㅡㅅ...\n",
       "2393067    ㅁㅓㅇㅂㅏㄱㄱㅡ-ㄴㅔ- ㅈㅓㅇㄱㅝㄴ ㅆㅏ- ㄸㅗㅇㅊㅣ-ㅇㅜ-ㄴㅡㄴ ㅁㅜㄴㅈㅓㅇㅂㅜ-...\n",
       "2393068    ㅇㅣ-ㅈㅔ- ㅁㅕㅇㅂㅏㄱㅇㅣ-ㅈㅗㅁ ㅇㅣㅈㅇㅡㄹㄸㅐ-ㄷㅗ- ㅇㅏㄴㄷㅙㅆㄴㅏ- ㄱㅡ-...\n",
       "2393069    Cㄱㅜ-ㅊㅓㅇㅈㅏㅇㅇㅡㄹ ㄷㅏㅇㅈㅏㅇ ㄱㅜ-ㅅㅗㄱ ㅅㅜ-ㅅㅏ-ㅎㅏ-ㅁㅕㄴ ㄷㅚㄹㄷㅡ...\n",
       "Name: comment_jamo, Length: 2393070, dtype: object"
      ]
     },
     "execution_count": 49,
     "metadata": {},
     "output_type": "execute_result"
    }
   ],
   "source": [
    "jamo_data"
   ]
  },
  {
   "cell_type": "code",
   "execution_count": 48,
   "metadata": {},
   "outputs": [
    {
     "name": "stderr",
     "output_type": "stream",
     "text": [
      "C:\\Users\\USER\\Anaconda3\\lib\\site-packages\\ipykernel_launcher.py:3: FutureWarning: The signature of `Series.to_csv` was aligned to that of `DataFrame.to_csv`, and argument 'header' will change its default value from False to True: please pass an explicit value to suppress this warning.\n",
      "  This is separate from the ipykernel package so we can avoid doing imports until\n"
     ]
    }
   ],
   "source": [
    "# utf-8 인코딩 기반의 텍스트 파일로 저장\n",
    "jamo_data.to_csv('D:\\\\WorkSpace\\\\뉴스 데이터\\\\200401_embedding_data\\\\jamo_data.txt', \n",
    "                 index=False, header=None, sep=\"\\n\", encoding = 'utf-8')"
   ]
  },
  {
   "cell_type": "code",
   "execution_count": 58,
   "metadata": {
    "collapsed": true,
    "jupyter": {
     "outputs_hidden": true
    }
   },
   "outputs": [],
   "source": [
    "f = open('D:\\\\WorkSpace\\\\뉴스 데이터\\\\200401_embedding_data\\\\jamo_data.txt', 'w', encoding = 'utf-8')\n",
    "\n",
    "for i in token_data[\"comment_jamo\"]:\n",
    "    f.write(i)\n",
    "    f.write('\\n')\n",
    "\n",
    "f.close()"
   ]
  }
 ],
 "metadata": {
  "kernelspec": {
   "display_name": "Python 3",
   "language": "python",
   "name": "python3"
  },
  "language_info": {
   "codemirror_mode": {
    "name": "ipython",
    "version": 3
   },
   "file_extension": ".py",
   "mimetype": "text/x-python",
   "name": "python",
   "nbconvert_exporter": "python",
   "pygments_lexer": "ipython3",
   "version": "3.8.3"
  },
  "toc": {
   "base_numbering": 1,
   "nav_menu": {},
   "number_sections": true,
   "sideBar": true,
   "skip_h1_title": false,
   "title_cell": "Table of Contents",
   "title_sidebar": "Contents",
   "toc_cell": false,
   "toc_position": {},
   "toc_section_display": true,
   "toc_window_display": false
  },
  "toc-autonumbering": true,
  "varInspector": {
   "cols": {
    "lenName": 16,
    "lenType": 16,
    "lenVar": 40
   },
   "kernels_config": {
    "python": {
     "delete_cmd_postfix": "",
     "delete_cmd_prefix": "del ",
     "library": "var_list.py",
     "varRefreshCmd": "print(var_dic_list())"
    },
    "r": {
     "delete_cmd_postfix": ") ",
     "delete_cmd_prefix": "rm(",
     "library": "var_list.r",
     "varRefreshCmd": "cat(var_dic_list()) "
    }
   },
   "types_to_exclude": [
    "module",
    "function",
    "builtin_function_or_method",
    "instance",
    "_Feature"
   ],
   "window_display": false
  }
 },
 "nbformat": 4,
 "nbformat_minor": 4
}